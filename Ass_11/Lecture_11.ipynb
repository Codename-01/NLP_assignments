{
 "cells": [
  {
   "cell_type": "code",
   "execution_count": 1,
   "metadata": {},
   "outputs": [],
   "source": [
    "original_prica = [1, 5, 8, 9, 10, 17, 17, 20, 24, 30, 35]"
   ]
  },
  {
   "cell_type": "code",
   "execution_count": 2,
   "metadata": {},
   "outputs": [],
   "source": [
    "from collections import defaultdict"
   ]
  },
  {
   "cell_type": "code",
   "execution_count": 3,
   "metadata": {},
   "outputs": [],
   "source": [
    "price = defaultdict(int)"
   ]
  },
  {
   "cell_type": "code",
   "execution_count": 4,
   "metadata": {},
   "outputs": [],
   "source": [
    "for i,p in enumerate(original_prica):\n",
    "    price[i+1] = p"
   ]
  },
  {
   "cell_type": "code",
   "execution_count": 5,
   "metadata": {},
   "outputs": [
    {
     "data": {
      "text/plain": [
       "35"
      ]
     },
     "execution_count": 5,
     "metadata": {},
     "output_type": "execute_result"
    }
   ],
   "source": [
    "price[11]"
   ]
  },
  {
   "cell_type": "markdown",
   "metadata": {},
   "source": [
    "## Get the max splitting by enumerate"
   ]
  },
  {
   "cell_type": "code",
   "execution_count": 6,
   "metadata": {},
   "outputs": [
    {
     "data": {
      "text/plain": [
       "defaultdict(int,\n",
       "            {1: 1,\n",
       "             2: 5,\n",
       "             3: 8,\n",
       "             4: 9,\n",
       "             5: 10,\n",
       "             6: 17,\n",
       "             7: 17,\n",
       "             8: 20,\n",
       "             9: 24,\n",
       "             10: 30,\n",
       "             11: 35})"
      ]
     },
     "execution_count": 6,
     "metadata": {},
     "output_type": "execute_result"
    }
   ],
   "source": [
    "price#每米长的钢材对应的价格"
   ]
  },
  {
   "cell_type": "code",
   "execution_count": 7,
   "metadata": {},
   "outputs": [],
   "source": [
    "def r(n):\n",
    "    '''\n",
    "    切分n米的钢材的最优价格\n",
    "    '''\n",
    "    return max([price[n]]+[r(i)+r(n-i) for i in range(1,n)]) #max(不切的价格，在i处切一刀的价格)"
   ]
  },
  {
   "cell_type": "code",
   "execution_count": 8,
   "metadata": {},
   "outputs": [],
   "source": [
    "def r(n):\n",
    "    \n",
    "    return max(\n",
    "        [price[n]] + [r(i) + r(n-i) for i in range(1,n)]\n",
    "    )"
   ]
  },
  {
   "cell_type": "code",
   "execution_count": 9,
   "metadata": {},
   "outputs": [
    {
     "data": {
      "text/plain": [
       "30"
      ]
     },
     "execution_count": 9,
     "metadata": {},
     "output_type": "execute_result"
    }
   ],
   "source": [
    "r(10)"
   ]
  },
  {
   "cell_type": "code",
   "execution_count": 10,
   "metadata": {},
   "outputs": [
    {
     "data": {
      "text/plain": [
       "45"
      ]
     },
     "execution_count": 10,
     "metadata": {},
     "output_type": "execute_result"
    }
   ],
   "source": [
    "r(15)"
   ]
  },
  {
   "cell_type": "code",
   "execution_count": 11,
   "metadata": {},
   "outputs": [],
   "source": [
    "import time"
   ]
  },
  {
   "cell_type": "code",
   "execution_count": 12,
   "metadata": {},
   "outputs": [],
   "source": [
    "#@get_time\n",
    "def fibonacci(n):\n",
    "    if n  <= 2:\n",
    "        return 1\n",
    "    else:\n",
    "        return fibonacci(n-1) + fibonacci(n-2)"
   ]
  },
  {
   "cell_type": "code",
   "execution_count": 13,
   "metadata": {},
   "outputs": [
    {
     "name": "stdout",
     "output_type": "stream",
     "text": [
      "5702887\n",
      "1.903954267501831\n"
     ]
    }
   ],
   "source": [
    "start = time.time()\n",
    "print(fibonacci(34))\n",
    "end = time.time()\n",
    "print(end-start)"
   ]
  },
  {
   "cell_type": "code",
   "execution_count": 14,
   "metadata": {},
   "outputs": [],
   "source": [
    "mem = defaultdict()\n",
    "def fibonacci_op(n):\n",
    "    if n in mem:\n",
    "        return mem[n]\n",
    "    else: \n",
    "        if n <= 2:\n",
    "            mem[n] = 1\n",
    "            return n\n",
    "        else:\n",
    "            result = fibonacci_op(n-1) + fibonacci_op(n-2)\n",
    "            mem[n] = result\n",
    "            return result"
   ]
  },
  {
   "cell_type": "code",
   "execution_count": 15,
   "metadata": {},
   "outputs": [
    {
     "name": "stdout",
     "output_type": "stream",
     "text": [
      "14662949395604\n",
      "0.0002841949462890625\n"
     ]
    }
   ],
   "source": [
    "start = time.time()\n",
    "print(fibonacci_op(64))\n",
    "end = time.time()\n",
    "print(end-start)"
   ]
  },
  {
   "cell_type": "markdown",
   "metadata": {},
   "source": [
    "# Analysis: How to optimize"
   ]
  },
  {
   "cell_type": "markdown",
   "metadata": {},
   "source": [
    "## A Simpler Problem"
   ]
  },
  {
   "cell_type": "markdown",
   "metadata": {},
   "source": [
    "### Decorator"
   ]
  },
  {
   "cell_type": "code",
   "execution_count": 16,
   "metadata": {},
   "outputs": [],
   "source": [
    "def get_time(func):\n",
    "    def wrapper(*args):\n",
    "        start = time.time()\n",
    "        func(*args)\n",
    "        end = time.time()\n",
    "        print('used time : {}'.format(end-start))\n",
    "    return wrapper"
   ]
  },
  {
   "cell_type": "code",
   "execution_count": 17,
   "metadata": {},
   "outputs": [],
   "source": [
    "def f1(func):\n",
    "    def wrapper(*args,**kwargs):\n",
    "        print('Started')\n",
    "        func(*args,**kwargs)\n",
    "        print('Ended')\n",
    "    return wrapper"
   ]
  },
  {
   "cell_type": "code",
   "execution_count": 18,
   "metadata": {},
   "outputs": [],
   "source": [
    "def f():\n",
    "    print('HELLO')"
   ]
  },
  {
   "cell_type": "code",
   "execution_count": 19,
   "metadata": {},
   "outputs": [
    {
     "name": "stdout",
     "output_type": "stream",
     "text": [
      "HELLO\n"
     ]
    }
   ],
   "source": [
    "f()"
   ]
  },
  {
   "cell_type": "code",
   "execution_count": 20,
   "metadata": {},
   "outputs": [],
   "source": [
    "f = f1(f)"
   ]
  },
  {
   "cell_type": "code",
   "execution_count": 21,
   "metadata": {},
   "outputs": [
    {
     "name": "stdout",
     "output_type": "stream",
     "text": [
      "wrapper\n"
     ]
    }
   ],
   "source": [
    "print(f.__name__)"
   ]
  },
  {
   "cell_type": "code",
   "execution_count": 22,
   "metadata": {},
   "outputs": [],
   "source": [
    "@f1\n",
    "def g(a):\n",
    "    print(a+20)"
   ]
  },
  {
   "cell_type": "code",
   "execution_count": 23,
   "metadata": {},
   "outputs": [
    {
     "name": "stdout",
     "output_type": "stream",
     "text": [
      "Started\n",
      "30\n",
      "Ended\n"
     ]
    }
   ],
   "source": [
    "g(10)"
   ]
  },
  {
   "cell_type": "code",
   "execution_count": 24,
   "metadata": {},
   "outputs": [],
   "source": [
    "def k(*arg,**kwargs):\n",
    "    print(kwargs)"
   ]
  },
  {
   "cell_type": "code",
   "execution_count": 25,
   "metadata": {},
   "outputs": [
    {
     "name": "stdout",
     "output_type": "stream",
     "text": [
      "{'b': 5}\n"
     ]
    }
   ],
   "source": [
    "k(6,b=5)"
   ]
  },
  {
   "cell_type": "code",
   "execution_count": 26,
   "metadata": {},
   "outputs": [],
   "source": [
    "from functools import wraps"
   ]
  },
  {
   "cell_type": "code",
   "execution_count": 27,
   "metadata": {},
   "outputs": [],
   "source": [
    "def memo(f):\n",
    "    memo.already_computed = {}\n",
    "    @wraps(f)\n",
    "    def _wrap(arg):\n",
    "        if arg in memo.already_computed:\n",
    "            result = memo.already_computed[arg]\n",
    "        else:\n",
    "            result = f(arg)\n",
    "            memo.already_computed[arg] = result\n",
    "        return result\n",
    "    return _wrap"
   ]
  },
  {
   "cell_type": "markdown",
   "metadata": {},
   "source": [
    "# We use this method to solve Cut Rod probelm¶"
   ]
  },
  {
   "cell_type": "code",
   "execution_count": 28,
   "metadata": {},
   "outputs": [],
   "source": [
    "solution = {}"
   ]
  },
  {
   "cell_type": "code",
   "execution_count": 29,
   "metadata": {},
   "outputs": [],
   "source": [
    "@memo\n",
    "def r(n):\n",
    "    \"\"\"\n",
    "    Args: n is the iron length\n",
    "    Return: the max revenue \n",
    "    \"\"\"\n",
    "    max_price, max_split = max(\n",
    "        [(price[n], 0)] + [(r(i) + r(n-i), i) for i in range(1, n)], key=lambda x: x[0]\n",
    "    )\n",
    "\n",
    "    solution[n] = (n - max_split, max_split)\n",
    "    \n",
    "    return max_price"
   ]
  },
  {
   "cell_type": "code",
   "execution_count": 30,
   "metadata": {},
   "outputs": [
    {
     "data": {
      "text/plain": [
       "60"
      ]
     },
     "execution_count": 30,
     "metadata": {},
     "output_type": "execute_result"
    }
   ],
   "source": [
    "r(20)"
   ]
  },
  {
   "cell_type": "code",
   "execution_count": 31,
   "metadata": {},
   "outputs": [
    {
     "data": {
      "text/plain": [
       "defaultdict(int,\n",
       "            {1: 1,\n",
       "             2: 5,\n",
       "             3: 8,\n",
       "             4: 9,\n",
       "             5: 10,\n",
       "             6: 17,\n",
       "             7: 17,\n",
       "             8: 20,\n",
       "             9: 24,\n",
       "             10: 30,\n",
       "             11: 35,\n",
       "             15: 0,\n",
       "             14: 0,\n",
       "             13: 0,\n",
       "             12: 0,\n",
       "             20: 0,\n",
       "             19: 0,\n",
       "             18: 0,\n",
       "             17: 0,\n",
       "             16: 0})"
      ]
     },
     "execution_count": 31,
     "metadata": {},
     "output_type": "execute_result"
    }
   ],
   "source": [
    "price"
   ]
  },
  {
   "cell_type": "code",
   "execution_count": 32,
   "metadata": {},
   "outputs": [
    {
     "data": {
      "text/plain": [
       "{1: (1, 0),\n",
       " 2: (2, 0),\n",
       " 3: (3, 0),\n",
       " 4: (2, 2),\n",
       " 5: (3, 2),\n",
       " 6: (6, 0),\n",
       " 7: (6, 1),\n",
       " 8: (6, 2),\n",
       " 9: (6, 3),\n",
       " 10: (10, 0),\n",
       " 11: (11, 0),\n",
       " 12: (11, 1),\n",
       " 13: (11, 2),\n",
       " 14: (11, 3),\n",
       " 15: (13, 2),\n",
       " 16: (14, 2),\n",
       " 17: (11, 6),\n",
       " 18: (17, 1),\n",
       " 19: (17, 2),\n",
       " 20: (17, 3)}"
      ]
     },
     "execution_count": 32,
     "metadata": {},
     "output_type": "execute_result"
    }
   ],
   "source": [
    "solution"
   ]
  },
  {
   "cell_type": "markdown",
   "metadata": {},
   "source": [
    "# How do we parse solution?¶"
   ]
  },
  {
   "cell_type": "code",
   "execution_count": 33,
   "metadata": {},
   "outputs": [],
   "source": [
    "def parse_solution(n):\n",
    "    left_split, right_split = solution[n]\n",
    "    \n",
    "    if right_split == 0: return [left_split]\n",
    "    \n",
    "    return parse_solution(left_split) + parse_solution(right_split)"
   ]
  },
  {
   "cell_type": "code",
   "execution_count": 34,
   "metadata": {},
   "outputs": [
    {
     "data": {
      "text/plain": [
       "75"
      ]
     },
     "execution_count": 34,
     "metadata": {},
     "output_type": "execute_result"
    }
   ],
   "source": [
    "r(24)"
   ]
  },
  {
   "cell_type": "code",
   "execution_count": 35,
   "metadata": {},
   "outputs": [
    {
     "data": {
      "text/plain": [
       "[11, 11, 2]"
      ]
     },
     "execution_count": 35,
     "metadata": {},
     "output_type": "execute_result"
    }
   ],
   "source": [
    "parse_solution(24)"
   ]
  },
  {
   "cell_type": "markdown",
   "metadata": {},
   "source": [
    "# Edit Distance"
   ]
  },
  {
   "cell_type": "code",
   "execution_count": 36,
   "metadata": {},
   "outputs": [],
   "source": [
    "solution = {}"
   ]
  },
  {
   "cell_type": "code",
   "execution_count": 37,
   "metadata": {},
   "outputs": [],
   "source": [
    "from functools import lru_cache"
   ]
  },
  {
   "cell_type": "code",
   "execution_count": 38,
   "metadata": {},
   "outputs": [],
   "source": [
    "@lru_cache(maxsize=2**10)\n",
    "def edit_distance(string1, string2):\n",
    "    \n",
    "    if len(string1) == 0: return len(string2) #如果两个词中的一个为空，则编辑距离为另一个的长度\n",
    "    if len(string2) == 0: return len(string1)\n",
    "    \n",
    "    tail_s1 = string1[-1] #s1的最后一位\n",
    "    tail_s2 = string2[-1] #s2的最后一位\n",
    "    \n",
    "    candidates = [\n",
    "        (edit_distance(string1[:-1], string2) + 1, 'DEL {}'.format(tail_s1)),  #D_del=D(s1去掉最后一位，s2)+1,指删除s1最后一位\n",
    "        # string 1 delete tail\n",
    "        (edit_distance(string1, string2[:-1]) + 1, 'ADD {}'.format(tail_s2)),  #D_add=D(s1, s2去掉最后一位)+1,指给s1增加s2的最后一位\n",
    "        # string 1 add tail of string2\n",
    "    ]\n",
    "    \n",
    "    if tail_s1 == tail_s2: #如果s1,s2最后一位相同D_sub=D(s1去掉最后一位,s2去掉最后一位)\n",
    "        both_forward = (edit_distance(string1[:-1], string2[:-1]) + 0, '')\n",
    "    else: #不相同的话D_sub=D(s1去掉最后一位,s2去掉最后一位)+1，s1的最后一位替换为s2的最后一位\n",
    "        both_forward = (edit_distance(string1[:-1], string2[:-1]) + 1, 'SUB {} => {}'.format(tail_s1, tail_s2))\n",
    "\n",
    "    candidates.append(both_forward)#candidate=[D_del,D_sub,D_add]\n",
    "    \n",
    "    min_distance, operation = min(candidates, key=lambda x: x[0]) #min_distance 为最小的edit_distance, operation 为Del，Sub，Add\n",
    "    \n",
    "    solution[(string1, string2)] = operation \n",
    "    \n",
    "    return min_distance"
   ]
  },
  {
   "cell_type": "code",
   "execution_count": 39,
   "metadata": {},
   "outputs": [
    {
     "data": {
      "text/plain": [
       "4"
      ]
     },
     "execution_count": 39,
     "metadata": {},
     "output_type": "execute_result"
    }
   ],
   "source": [
    "edit_distance('right','write')"
   ]
  },
  {
   "cell_type": "code",
   "execution_count": 40,
   "metadata": {},
   "outputs": [
    {
     "data": {
      "text/plain": [
       "{('r', 'w'): 'SUB r => w',\n",
       " ('r', 'wr'): '',\n",
       " ('r', 'wri'): 'ADD i',\n",
       " ('r', 'writ'): 'ADD t',\n",
       " ('r', 'write'): 'ADD e',\n",
       " ('ri', 'w'): 'DEL i',\n",
       " ('ri', 'wr'): 'DEL i',\n",
       " ('ri', 'wri'): '',\n",
       " ('ri', 'writ'): 'ADD t',\n",
       " ('ri', 'write'): 'ADD e',\n",
       " ('rig', 'w'): 'DEL g',\n",
       " ('rig', 'wr'): 'DEL g',\n",
       " ('rig', 'wri'): 'DEL g',\n",
       " ('rig', 'writ'): 'SUB g => t',\n",
       " ('rig', 'write'): 'ADD e',\n",
       " ('righ', 'w'): 'DEL h',\n",
       " ('righ', 'wr'): 'DEL h',\n",
       " ('righ', 'wri'): 'DEL h',\n",
       " ('righ', 'writ'): 'DEL h',\n",
       " ('righ', 'write'): 'SUB h => e',\n",
       " ('right', 'w'): 'DEL t',\n",
       " ('right', 'wr'): 'DEL t',\n",
       " ('right', 'wri'): 'DEL t',\n",
       " ('right', 'writ'): '',\n",
       " ('right', 'write'): 'DEL t'}"
      ]
     },
     "execution_count": 40,
     "metadata": {},
     "output_type": "execute_result"
    }
   ],
   "source": [
    "solution"
   ]
  },
  {
   "cell_type": "markdown",
   "metadata": {},
   "source": [
    "## Todo: Parse Solution is our homework"
   ]
  },
  {
   "cell_type": "code",
   "execution_count": 42,
   "metadata": {},
   "outputs": [],
   "source": [
    "def parse_edit(string1,string2):\n",
    "    if len(string2) == 0:\n",
    "        return ['DEL {}'.format(string1)]\n",
    "    if len(string1) == 0:\n",
    "        return ['ADD {}'.format(string2)]\n",
    "    operation = solution[(string1,string2)]\n",
    "    if len(string1) == 1 and len(string2) == 1:\n",
    "        return [operation]\n",
    "    ope = operation.split(\" \")[0]\n",
    "    if ope == 'ADD':\n",
    "        return parse_edit(string1,string2[:-1])+[operation]\n",
    "    elif ope == 'SUB' or ope == '':\n",
    "        return parse_edit(string1[:-1],string2[:-1])+[operation]\n",
    "    else:\n",
    "        return parse_edit(string1[:-1],string2)+[operation]"
   ]
  },
  {
   "cell_type": "code",
   "execution_count": 43,
   "metadata": {},
   "outputs": [
    {
     "name": "stdout",
     "output_type": "stream",
     "text": [
      "ADD w\n",
      "SUB g => t\n",
      "SUB h => e\n",
      "DEL t\n"
     ]
    }
   ],
   "source": [
    "path = parse_edit('right', 'write')\n",
    "for steps in path:\n",
    "    if len(steps) is not 0:\n",
    "        print(steps)"
   ]
  },
  {
   "cell_type": "markdown",
   "metadata": {},
   "source": [
    "# Problem Case 3: Pinyin Auto Correction Problem"
   ]
  },
  {
   "cell_type": "code",
   "execution_count": 44,
   "metadata": {},
   "outputs": [],
   "source": [
    "chinese_dataset = 'article_9k.txt'"
   ]
  },
  {
   "cell_type": "code",
   "execution_count": 45,
   "metadata": {},
   "outputs": [],
   "source": [
    "CHINESE_CHARATERS = open(chinese_dataset).read()"
   ]
  },
  {
   "cell_type": "code",
   "execution_count": 46,
   "metadata": {},
   "outputs": [
    {
     "data": {
      "text/plain": [
       "'角希腊雕塑一般的面庞与身体在一部同志题材的电影中迷恋女主角好像很不应该吧\\n冲着颜'"
      ]
     },
     "execution_count": 46,
     "metadata": {},
     "output_type": "execute_result"
    }
   ],
   "source": [
    "CHINESE_CHARATERS[-80:-40]"
   ]
  },
  {
   "cell_type": "code",
   "execution_count": 47,
   "metadata": {},
   "outputs": [],
   "source": [
    "#!pip3 install pinyin -i https://pypi.tuna.tsinghua.edu.cn/simple\n",
    "import pinyin"
   ]
  },
  {
   "cell_type": "code",
   "execution_count": 48,
   "metadata": {},
   "outputs": [
    {
     "data": {
      "text/plain": [
       "'ni hao ， zhong guo'"
      ]
     },
     "execution_count": 48,
     "metadata": {},
     "output_type": "execute_result"
    }
   ],
   "source": [
    "pinyin.get('你好，中国',format='strip',delimiter=' ')"
   ]
  },
  {
   "cell_type": "code",
   "execution_count": 49,
   "metadata": {},
   "outputs": [],
   "source": [
    "def chinese_to_pinyin(character):\n",
    "    return pinyin.get(character, format='strip', delimiter=' ')"
   ]
  },
  {
   "cell_type": "code",
   "execution_count": 50,
   "metadata": {},
   "outputs": [],
   "source": [
    "CHINESE_CHARATERS_COPYS = chinese_to_pinyin(CHINESE_CHARATERS)"
   ]
  },
  {
   "cell_type": "code",
   "execution_count": 51,
   "metadata": {},
   "outputs": [
    {
     "data": {
      "text/plain": [
       "31291054"
      ]
     },
     "execution_count": 51,
     "metadata": {},
     "output_type": "execute_result"
    }
   ],
   "source": [
    "len(CHINESE_CHARATERS_COPYS)"
   ]
  },
  {
   "cell_type": "code",
   "execution_count": 52,
   "metadata": {},
   "outputs": [],
   "source": [
    "import re"
   ]
  },
  {
   "cell_type": "code",
   "execution_count": 53,
   "metadata": {},
   "outputs": [],
   "source": [
    "def tokens(text):\n",
    "    \"List all the pinyin characters\"\n",
    "    return re.findall('[a-z]+',text.lower())"
   ]
  },
  {
   "cell_type": "code",
   "execution_count": 54,
   "metadata": {},
   "outputs": [
    {
     "data": {
      "text/plain": [
       "'wu jing yi yin dao le nao can de di bu kan le e xin xiang tu \\n shou ying li kan de tai kong bu le zh'"
      ]
     },
     "execution_count": 54,
     "metadata": {},
     "output_type": "execute_result"
    }
   ],
   "source": [
    "CHINESE_CHARATERS_COPYS[:100]"
   ]
  },
  {
   "cell_type": "code",
   "execution_count": 55,
   "metadata": {},
   "outputs": [
    {
     "data": {
      "text/plain": [
       "['wu',\n",
       " 'jing',\n",
       " 'yi',\n",
       " 'yin',\n",
       " 'dao',\n",
       " 'le',\n",
       " 'nao',\n",
       " 'can',\n",
       " 'de',\n",
       " 'di',\n",
       " 'bu',\n",
       " 'kan',\n",
       " 'le',\n",
       " 'e',\n",
       " 'xin',\n",
       " 'xiang',\n",
       " 'tu',\n",
       " 'shou',\n",
       " 'ying',\n",
       " 'li',\n",
       " 'kan',\n",
       " 'de',\n",
       " 'tai',\n",
       " 'kong',\n",
       " 'bu',\n",
       " 'le',\n",
       " 'zh']"
      ]
     },
     "execution_count": 55,
     "metadata": {},
     "output_type": "execute_result"
    }
   ],
   "source": [
    "tokens(CHINESE_CHARATERS_COPYS[:100])"
   ]
  },
  {
   "cell_type": "code",
   "execution_count": 56,
   "metadata": {},
   "outputs": [],
   "source": [
    "from collections import Counter, defaultdict"
   ]
  },
  {
   "cell_type": "code",
   "execution_count": 57,
   "metadata": {},
   "outputs": [],
   "source": [
    "PINYIN_COUNT = Counter(tokens(CHINESE_CHARATERS_COPYS))"
   ]
  },
  {
   "cell_type": "code",
   "execution_count": 63,
   "metadata": {},
   "outputs": [],
   "source": [
    "def correct(word):\n",
    "    'Find the most possible pinyin based on edit distance'\n",
    "    # Prefer edit distance 0, then 1, then 2; otherwist default to word itself\n",
    "    # candidates 表示word所有可能的修改方案\n",
    "    candidates = (known(edits0(word)) or\n",
    "                  known(edits1(word)) or\n",
    "                  known(edits2(word)) or\n",
    "                  [word])\n",
    "    return max(candidates,key=PINYIN_COUNT.get) #返回最有可能的一个"
   ]
  },
  {
   "cell_type": "code",
   "execution_count": 62,
   "metadata": {},
   "outputs": [
    {
     "data": {
      "text/plain": [
       "{'yi', 'yin', 'ying'}"
      ]
     },
     "execution_count": 62,
     "metadata": {},
     "output_type": "execute_result"
    }
   ],
   "source": [
    "known(edits1(\"yig\"))"
   ]
  },
  {
   "cell_type": "code",
   "execution_count": 60,
   "metadata": {},
   "outputs": [],
   "source": [
    "def known(words):\n",
    "    'Return the pinyin in our data'\n",
    "    return {w for w in words if w in PINYIN_COUNT} #如果修改方案在数据集内，返回它\n",
    "\n",
    "def edits0(word):\n",
    "    'Return all strings that are zero edits away from word (i.e., just word itself).'\n",
    "    return {word} #返回word本身，没有任何修改\n",
    "\n",
    "def edits2(word):\n",
    "    'Return all strings that are two edits away from this pinyin.'\n",
    "    return {e2 for e1 in edits1(word) for e2 in edits1(e1)} #e1为word所有的一次修改方案，e2为所有e1的一次修改方案"
   ]
  },
  {
   "cell_type": "code",
   "execution_count": 61,
   "metadata": {},
   "outputs": [],
   "source": [
    "alphabet = 'abcdefghijklmnopqrstuvwxyz'\n",
    "\n",
    "def splits(word):\n",
    "    'Return a list of all possible (first, rest) pairs that comprise pinyin.'\n",
    "    return [(word[:i], word[i:])\n",
    "           for i in range(len(word)+1)]\n",
    "\n",
    "def edits1(word):\n",
    "    'Return all strings that are one edit away from this pinyin.'\n",
    "    pairs = splits(word) #所有左右分割\n",
    "    deletes = [a+b[1:] for (a,b) in pairs if b] #删除右边的的第一个 \n",
    "    transposes = [a+b[1]+b[0]+b[2:] for (a,b) in pairs if len(b) > 1] #颠倒右边的第二个和第一个\n",
    "    replaces = [a+c+b[1:] for (a,b) in pairs for c in alphabet if b] #将右边的第一个更换为c，c为26个字母中的一个\n",
    "    inserts = [a+c+b for (a,b) in pairs for c in alphabet] #在左右部分中间插入一个c，c为26个字母中的一个\n",
    "    return set(deletes + transposes + replaces + inserts)"
   ]
  },
  {
   "cell_type": "code",
   "execution_count": 64,
   "metadata": {},
   "outputs": [
    {
     "data": {
      "text/plain": [
       "[('', 'pinyin'),\n",
       " ('p', 'inyin'),\n",
       " ('pi', 'nyin'),\n",
       " ('pin', 'yin'),\n",
       " ('piny', 'in'),\n",
       " ('pinyi', 'n'),\n",
       " ('pinyin', '')]"
      ]
     },
     "execution_count": 64,
     "metadata": {},
     "output_type": "execute_result"
    }
   ],
   "source": [
    "splits('pinyin')"
   ]
  },
  {
   "cell_type": "code",
   "execution_count": 65,
   "metadata": {},
   "outputs": [
    {
     "name": "stdout",
     "output_type": "stream",
     "text": [
      "{'pinyin'}\n"
     ]
    }
   ],
   "source": [
    "print(edits0('pinyin'))"
   ]
  },
  {
   "cell_type": "code",
   "execution_count": 66,
   "metadata": {},
   "outputs": [
    {
     "name": "stdout",
     "output_type": "stream",
     "text": [
      "{'pinlin', 'pinyia', 'piqyin', 'piunyin', 'pivnyin', 'pibyin', 'pinfyin', 'pinyidn', 'prinyin', 'pinyil', 'binyin', 'qinyin', 'pinyid', 'piiyin', 'pinyen', 'pinlyin', 'minyin', 'ptnyin', 'piyyin', 'poinyin', 'tpinyin', 'pinxyin', 'puinyin', 'pinin', 'piniyin', 'pknyin', 'phnyin', 'pcnyin', 'pinycin', 'ppinyin', 'pinybin', 'pinymin', 'pipnyin', 'pinyien', 'pinyinj', 'pgnyin', 'panyin', 'pnnyin', 'ppnyin', 'pinycn', 'pinyiu', 'pitnyin', 'pinyiqn', 'prnyin', 'lpinyin', 'pieyin', 'pinyfn', 'painyin', 'pzinyin', 'pinzin', 'pimnyin', 'pinyinw', 'pinyn', 'piniin', 'pinyvn', 'pityin', 'zinyin', 'pinygin', 'pinyun', 'pinfin', 'pinbyin', 'pinyfin', 'pinyin', 'sinyin', 'jinyin', 'pniyin', 'pinyic', 'pginyin', 'pbnyin', 'pinnin', 'winyin', 'pinyain', 'pinyiun', 'pinyxn', 'pilyin', 'pinein', 'ypinyin', 'apinyin', 'phinyin', 'pinyinq', 'pfinyin', 'pinylin', 'pinyxin', 'pinyivn', 'hpinyin', 'pjinyin', 'einyin', 'pvnyin', 'pdinyin', 'pinvyin', 'peinyin', 'pingin', 'piynyin', 'pinyan', 'pintyin', 'ainyin', 'pynyin', 'pimyin', 'pinqyin', 'pinyein', 'pinyqin', 'pinyrin', 'pjnyin', 'pirnyin', 'pinwin', 'pinyhn', 'pinyiw', 'npinyin', 'pcinyin', 'cinyin', 'pincin', 'pyinyin', 'pinyirn', 'pinyinb', 'pisyin', 'pinpyin', 'pinyis', 'pixyin', 'pmnyin', 'piinyin', 'pinyiz', 'pinyln', 'pinywin', 'pinxin', 'yinyin', 'piayin', 'pinzyin', 'pinygn', 'pinsin', 'piwnyin', 'ipinyin', 'pinyinn', 'pipyin', 'piryin', 'pinyipn', 'plnyin', 'uinyin', 'pinyinm', 'pinain', 'piuyin', 'pinyinu', 'jpinyin', 'rpinyin', 'pinpin', 'pibnyin', 'pinyyin', 'pihyin', 'pinqin', 'pienyin', 'pinyinc', 'pvinyin', 'pinykin', 'pincyin', 'pinsyin', 'pinyinz', 'pinyins', 'pinwyin', 'pinyhin', 'pinbin', 'pinyiln', 'rinyin', 'piwyin', 'pizyin', 'pinypn', 'pinyih', 'pigyin', 'pinyim', 'pinyiv', 'pinyib', 'pisnyin', 'pioyin', 'pingyin', 'pinyign', 'pinyijn', 'pinying', 'pinoyin', 'pinyi', 'pinyuin', 'pindin', 'pminyin', 'qpinyin', 'ginyin', 'pfnyin', 'gpinyin', 'pinyqn', 'pinkin', 'pinymn', 'pifnyin', 'pinoin', 'pinyon', 'pinyij', 'vpinyin', 'pinyifn', 'pinyinf', 'pinyinx', 'pinydn', 'iinyin', 'pinyik', 'pkinyin', 'ponyin', 'pinyni', 'ipnyin', 'pinyihn', 'finyin', 'pinmin', 'mpinyin', 'pinvin', 'pidnyin', 'pijnyin', 'pinyvin', 'pqnyin', 'pinnyin', 'pixnyin', 'spinyin', 'pinyie', 'pinyig', 'pinyix', 'pinmyin', 'pdnyin', 'pinjin', 'pinrin', 'pinydin', 'pinyinv', 'piyin', 'bpinyin', 'pinyind', 'epinyin', 'dpinyin', 'pinyrn', 'piznyin', 'pinyiwn', 'pinywn', 'pinkyin', 'pinyimn', 'pinyitn', 'pinyir', 'pbinyin', 'pinyink', 'pinhin', 'penyin', 'pinyiyn', 'pznyin', 'pinybn', 'piynin', 'pqinyin', 'tinyin', 'pinyyn', 'upinyin', 'ptinyin', 'dinyin', 'pilnyin', 'pinryin', 'pinytn', 'pinyian', 'cpinyin', 'pinyzn', 'pwinyin', 'pinyii', 'psnyin', 'pinysn', 'pinyiy', 'pxinyin', 'pinytin', 'pinyibn', 'kinyin', 'piqnyin', 'pinyina', 'pinhyin', 'pinyiin', 'xpinyin', 'pinyinp', 'wpinyin', 'oinyin', 'picnyin', 'pinyio', 'linyin', 'inyin', 'kpinyin', 'pihnyin', 'pinayin', 'pionyin', 'pinyion', 'picyin', 'pinyif', 'pinyoin', 'plinyin', 'pinyizn', 'pinyiq', 'pinysin', 'zpinyin', 'pinypin', 'pnyin', 'pinyinh', 'pinyiny', 'ninyin', 'pindyin', 'pinykn', 'pinyini', 'xinyin', 'pinyit', 'pidyin', 'pianyin', 'pinyixn', 'pinyikn', 'pinyip', 'pifyin', 'pxnyin', 'piniyn', 'pintin', 'punyin', 'pinyinr', 'pinynn', 'pignyin', 'pinuin', 'pijyin', 'pinuyin', 'pinynin', 'pinyjin', 'fpinyin', 'pinyinl', 'vinyin', 'pikyin', 'pinyisn', 'hinyin', 'pinyjn', 'opinyin', 'pinjyin', 'pninyin', 'psinyin', 'pinyino', 'pivyin', 'piknyin', 'pwnyin', 'pinyzin', 'pinyint', 'pinyicn', 'pineyin', 'pinyine'}\n"
     ]
    }
   ],
   "source": [
    "print(edits1('pinyin'))"
   ]
  },
  {
   "cell_type": "markdown",
   "metadata": {},
   "source": [
    "# Test"
   ]
  },
  {
   "cell_type": "code",
   "execution_count": 67,
   "metadata": {},
   "outputs": [
    {
     "data": {
      "text/plain": [
       "'yin'"
      ]
     },
     "execution_count": 67,
     "metadata": {},
     "output_type": "execute_result"
    }
   ],
   "source": [
    "correct('yin')"
   ]
  },
  {
   "cell_type": "code",
   "execution_count": 68,
   "metadata": {},
   "outputs": [
    {
     "data": {
      "text/plain": [
       "'ying'"
      ]
     },
     "execution_count": 68,
     "metadata": {},
     "output_type": "execute_result"
    }
   ],
   "source": [
    "correct('yign')"
   ]
  },
  {
   "cell_type": "code",
   "execution_count": 69,
   "metadata": {},
   "outputs": [
    {
     "data": {
      "text/plain": [
       "'ying'"
      ]
     },
     "execution_count": 69,
     "metadata": {},
     "output_type": "execute_result"
    }
   ],
   "source": [
    "correct('yinn')"
   ]
  },
  {
   "cell_type": "code",
   "execution_count": 70,
   "metadata": {},
   "outputs": [],
   "source": [
    "def correct_sequence_pinyin(text_pinyin):\n",
    "    return ' '.join(map(correct, text_pinyin.split())) #将string中切割出来的每一个拼音进行correct"
   ]
  },
  {
   "cell_type": "code",
   "execution_count": 71,
   "metadata": {},
   "outputs": [
    {
     "data": {
      "text/plain": [
       "'zhe shi yi ge ce shi'"
      ]
     },
     "execution_count": 71,
     "metadata": {},
     "output_type": "execute_result"
    }
   ],
   "source": [
    "correct_sequence_pinyin('zhe sih yi ge ce sho')"
   ]
  },
  {
   "cell_type": "code",
   "execution_count": 72,
   "metadata": {},
   "outputs": [
    {
     "data": {
      "text/plain": [
       "'wo xiang shang qing hua da xue'"
      ]
     },
     "execution_count": 72,
     "metadata": {},
     "output_type": "execute_result"
    }
   ],
   "source": [
    "correct_sequence_pinyin('wo xiang shagn qinng hua da xue')"
   ]
  },
  {
   "cell_type": "markdown",
   "metadata": {},
   "source": [
    "# 思考题-homework？    \n",
    "#### 如何在不带空格的时候完成自动修整？--> 如何完成拼音的自动分割？   \n",
    "###### 提示：使用第一节课提到的语言模型!"
   ]
  },
  {
   "cell_type": "markdown",
   "metadata": {},
   "source": [
    "woyaoshangqinghua\n",
    "w yaoshangqinghua\n",
    "wo yaoshangqinghua\n",
    "woyao shangqinghua\n",
    "\n",
    "-> DP"
   ]
  },
  {
   "cell_type": "code",
   "execution_count": 211,
   "metadata": {},
   "outputs": [],
   "source": [
    "#思路：与切钢材类似，将一个句子切为几个部分，切钢材的价格由counter来代替"
   ]
  },
  {
   "cell_type": "code",
   "execution_count": 294,
   "metadata": {},
   "outputs": [],
   "source": [
    "solution = {}\n",
    "@memo\n",
    "def r(sentence):\n",
    "    \"\"\"\n",
    "    Args: n is the iron length\n",
    "    Return: the max revenue \n",
    "    \"\"\"\n",
    "    n = len(sentence)\n",
    "    if n == 1:\n",
    "        solution[sentence] = (sentence,'')\n",
    "        return 0\n",
    "    max_price, max_split = max(\n",
    "        [(PINYIN_COUNT[sentence], 0)] + [(r(sentence[:i]) + r(sentence[i:]), i) for i in range(1, n)], key=lambda x: x[0]\n",
    "    )\n",
    "\n",
    "    solution[sentence] = (sentence[:max_split], sentence[max_split:])\n",
    "    \n",
    "    return max_price\n",
    "\n",
    "def parse_solution(sentence):\n",
    "    left_split, right_split = solution[sentence]\n",
    "    \n",
    "    if len(right_split) == 0: return [left_split]\n",
    "    if len(left_split) == 0: return [right_split]\n",
    "    \n",
    "    return parse_solution(left_split) + parse_solution(right_split)"
   ]
  },
  {
   "cell_type": "code",
   "execution_count": 295,
   "metadata": {},
   "outputs": [
    {
     "name": "stdout",
     "output_type": "stream",
     "text": [
      "['wo', 'yao', 'shang', 'qing', 'hua']\n"
     ]
    }
   ],
   "source": [
    "sentence = \"woyaoshangqinghua\"\n",
    "r(sentence)\n",
    "print(parse_solution(sentence))"
   ]
  },
  {
   "cell_type": "code",
   "execution_count": null,
   "metadata": {},
   "outputs": [],
   "source": []
  }
 ],
 "metadata": {
  "kernelspec": {
   "display_name": "Python 3",
   "language": "python",
   "name": "python3"
  },
  "language_info": {
   "codemirror_mode": {
    "name": "ipython",
    "version": 3
   },
   "file_extension": ".py",
   "mimetype": "text/x-python",
   "name": "python",
   "nbconvert_exporter": "python",
   "pygments_lexer": "ipython3",
   "version": "3.6.8"
  }
 },
 "nbformat": 4,
 "nbformat_minor": 2
}
