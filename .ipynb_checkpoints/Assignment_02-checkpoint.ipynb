{
 "cells": [
  {
   "cell_type": "markdown",
   "metadata": {},
   "source": [
    "# Assignment 2\n"
   ]
  },
  {
   "cell_type": "markdown",
   "metadata": {},
   "source": [
    "#### 1. 复习上课内容以及复现课程代码"
   ]
  },
  {
   "cell_type": "markdown",
   "metadata": {},
   "source": [
    "在本部分，你需要在复习上课内容和课程代码后，复现课程代码。 "
   ]
  },
  {
   "cell_type": "markdown",
   "metadata": {},
   "source": [
    "#### 2. 回答以下理论题目"
   ]
  },
  {
   "cell_type": "markdown",
   "metadata": {},
   "source": [
    "###       < 评阅点 >： 答案是否正确完整"
   ]
  },
  {
   "cell_type": "markdown",
   "metadata": {},
   "source": [
    "###### 2.1 What conditions are required to make the BFS return the optimal solution ?"
   ]
  },
  {
   "cell_type": "markdown",
   "metadata": {},
   "source": [
    "##### 2.2 Is there a way to make DFS find the optimal solution ? (You may need to read some material about iterative DFS)"
   ]
  },
  {
   "cell_type": "markdown",
   "metadata": {},
   "source": [
    "##### 2.3 In what conditions BFS is a better choice than DFS and vice versa ?"
   ]
  },
  {
   "cell_type": "markdown",
   "metadata": {},
   "source": [
    "##### 2.4 When can we use machine learning ?"
   ]
  },
  {
   "cell_type": "markdown",
   "metadata": {},
   "source": [
    "##### 2.5 What is the gradient of a function ?"
   ]
  },
  {
   "cell_type": "markdown",
   "metadata": {},
   "source": [
    "##### 2.6 How can we find the maximum value of a function using the information of gradient ?"
   ]
  },
  {
   "cell_type": "markdown",
   "metadata": {},
   "source": [
    "#### 3. 实践部分  寻找地铁路线"
   ]
  },
  {
   "cell_type": "markdown",
   "metadata": {},
   "source": [
    "### < 评阅点 >  1: 爬虫爬取数据是否完整;  2:搜索算法是否正确"
   ]
  },
  {
   "cell_type": "markdown",
   "metadata": {},
   "source": [
    "In this part, although we recommend you to use Beijing subway, you still can use the subway map of any cities that you are interested in. "
   ]
  },
  {
   "cell_type": "markdown",
   "metadata": {},
   "source": [
    "![title](img/ditu.png)"
   ]
  },
  {
   "cell_type": "markdown",
   "metadata": {},
   "source": [
    "Please using the search policy to implement an agent. This agent receives two input, one is @param start station and the other is @param destination. Your agent should give the optimal route based on Beijing Subway system."
   ]
  },
  {
   "cell_type": "markdown",
   "metadata": {},
   "source": [
    "Deadline: 2019-October-27"
   ]
  },
  {
   "cell_type": "markdown",
   "metadata": {},
   "source": [
    "#### Procedures"
   ]
  },
  {
   "cell_type": "markdown",
   "metadata": {},
   "source": [
    "#### 1. Get data from web.  "
   ]
  },
  {
   "cell_type": "markdown",
   "metadata": {},
   "source": [
    "Some tips: "
   ]
  },
  {
   "cell_type": "markdown",
   "metadata": {},
   "source": [
    "a. You might need this package: requests[https://2.python-requests.org/en/master/] to get webpages"
   ]
  },
  {
   "cell_type": "markdown",
   "metadata": {},
   "source": [
    "b.You might need to use Regular Expression and Beautiful Soap package to parse the webpages"
   ]
  },
  {
   "cell_type": "code",
   "execution_count": 162,
   "metadata": {},
   "outputs": [],
   "source": [
    "from urllib import request\n",
    "from bs4 import BeautifulSoup \n",
    "import re\n",
    "import pandas as pd\n",
    "import urllib.parse as urp\n",
    "\n",
    "\n",
    "def __get_location1__(name,city):  ##百度地图api获取地铁站经纬度\n",
    "        my_ak = ''    # 需要自己填写自己的AK\n",
    "        tag = urp.quote('地铁站')\n",
    "        qurey = urp.quote(name)\n",
    "        try:\n",
    "            url = 'http://api.map.baidu.com/place/v2/search?query='+qurey+'&tag='+'&region='+urp.quote(city)+'&output=json&ak='+my_ak\n",
    "            print(url)\n",
    "            req = request.urlopen(url)\n",
    "            res = req.read().decode()\n",
    "            lat = pd.to_numeric(re.findall('\"lat\":(.*)',res)[0].split(',')[0])\n",
    "            lng = pd.to_numeric(re.findall('\"lng\":(.*)',res)[0])\n",
    "            return (lng,lat)  #经度和纬度\n",
    "        except:\n",
    "            return 0,0"
   ]
  },
  {
   "cell_type": "code",
   "execution_count": 53,
   "metadata": {},
   "outputs": [],
   "source": [
    "import requests\n",
    "r = requests.get(\"https://www.bjsubway.com/station/xltcx/\") #request the official site of Beijingsubway\n",
    "r.encoding = 'gbk'\n",
    "text = r.text\n",
    "filename = \"./bjsubway2.html\"\n",
    "with open(filename,'w') as f:\n",
    "    f.write(text) #save it\n",
    "    f.close()"
   ]
  },
  {
   "cell_type": "code",
   "execution_count": 129,
   "metadata": {},
   "outputs": [
    {
     "data": {
      "text/plain": [
       "392"
      ]
     },
     "execution_count": 129,
     "metadata": {},
     "output_type": "execute_result"
    }
   ],
   "source": [
    "with open(filename) as f:\n",
    "    text = f.read()\n",
    "    f.close()\n",
    "text_list = text.splitlines()\n",
    "stations = []\n",
    "for line in text_list: #find all station name\n",
    "    match = re.findall('class=\\\"station\\\"[\\s*|\\S*]*\\>(\\S*[\\u4e00-\\u9fa5]+)\\<',line)\n",
    "    if len(match) > 0:\n",
    "        stations.append(match[0])\n",
    "len(stations)"
   ]
  },
  {
   "cell_type": "markdown",
   "metadata": {},
   "source": [
    "##### 2. Preprocessing data"
   ]
  },
  {
   "cell_type": "markdown",
   "metadata": {},
   "source": [
    "Some tips:"
   ]
  },
  {
   "cell_type": "markdown",
   "metadata": {},
   "source": [
    "a. Find a suitable way to save the data you get from the web. (Note: The way you use to save the data should be able to be used to create the graph that your agent is going to explore)"
   ]
  },
  {
   "cell_type": "code",
   "execution_count": 132,
   "metadata": {},
   "outputs": [
    {
     "name": "stdout",
     "output_type": "stream",
     "text": [
      "http://api.map.baidu.com/place/v2/search?query=%E8%8B%B9%E6%9E%9C%E5%9B%AD&tag=&region=%E5%8C%97%E4%BA%AC&output=json&ak=EwBUrSUNYuHSvvU7ZGmPSNHhpR4NS4No\n",
      "http://api.map.baidu.com/place/v2/search?query=%E5%8F%A4%E5%9F%8E&tag=&region=%E5%8C%97%E4%BA%AC&output=json&ak=EwBUrSUNYuHSvvU7ZGmPSNHhpR4NS4No\n",
      "http://api.map.baidu.com/place/v2/search?query=%E5%85%AB%E8%A7%92%E6%B8%B8%E4%B9%90%E5%9B%AD&tag=&region=%E5%8C%97%E4%BA%AC&output=json&ak=EwBUrSUNYuHSvvU7ZGmPSNHhpR4NS4No\n",
      "http://api.map.baidu.com/place/v2/search?query=%E5%85%AB%E5%AE%9D%E5%B1%B1&tag=&region=%E5%8C%97%E4%BA%AC&output=json&ak=EwBUrSUNYuHSvvU7ZGmPSNHhpR4NS4No\n",
      "http://api.map.baidu.com/place/v2/search?query=%E7%8E%89%E6%B3%89%E8%B7%AF&tag=&region=%E5%8C%97%E4%BA%AC&output=json&ak=EwBUrSUNYuHSvvU7ZGmPSNHhpR4NS4No\n",
      "http://api.map.baidu.com/place/v2/search?query=%E4%BA%94%E6%A3%B5%E6%9D%BE&tag=&region=%E5%8C%97%E4%BA%AC&output=json&ak=EwBUrSUNYuHSvvU7ZGmPSNHhpR4NS4No\n",
      "http://api.map.baidu.com/place/v2/search?query=%E4%B8%87%E5%AF%BF%E8%B7%AF&tag=&region=%E5%8C%97%E4%BA%AC&output=json&ak=EwBUrSUNYuHSvvU7ZGmPSNHhpR4NS4No\n",
      "http://api.map.baidu.com/place/v2/search?query=%E5%85%AC%E4%B8%BB%E5%9D%9F&tag=&region=%E5%8C%97%E4%BA%AC&output=json&ak=EwBUrSUNYuHSvvU7ZGmPSNHhpR4NS4No\n",
      "http://api.map.baidu.com/place/v2/search?query=%E5%86%9B%E4%BA%8B%E5%8D%9A%E7%89%A9%E9%A6%86&tag=&region=%E5%8C%97%E4%BA%AC&output=json&ak=EwBUrSUNYuHSvvU7ZGmPSNHhpR4NS4No\n",
      "http://api.map.baidu.com/place/v2/search?query=%E6%9C%A8%E6%A8%A8%E5%9C%B0&tag=&region=%E5%8C%97%E4%BA%AC&output=json&ak=EwBUrSUNYuHSvvU7ZGmPSNHhpR4NS4No\n",
      "http://api.map.baidu.com/place/v2/search?query=%E5%8D%97%E7%A4%BC%E5%A3%AB%E8%B7%AF&tag=&region=%E5%8C%97%E4%BA%AC&output=json&ak=EwBUrSUNYuHSvvU7ZGmPSNHhpR4NS4No\n",
      "http://api.map.baidu.com/place/v2/search?query=%E5%A4%8D%E5%85%B4%E9%97%A8&tag=&region=%E5%8C%97%E4%BA%AC&output=json&ak=EwBUrSUNYuHSvvU7ZGmPSNHhpR4NS4No\n",
      "http://api.map.baidu.com/place/v2/search?query=%E8%A5%BF%E5%8D%95&tag=&region=%E5%8C%97%E4%BA%AC&output=json&ak=EwBUrSUNYuHSvvU7ZGmPSNHhpR4NS4No\n",
      "http://api.map.baidu.com/place/v2/search?query=%E5%A4%A9%E5%AE%89%E9%97%A8%E8%A5%BF&tag=&region=%E5%8C%97%E4%BA%AC&output=json&ak=EwBUrSUNYuHSvvU7ZGmPSNHhpR4NS4No\n",
      "http://api.map.baidu.com/place/v2/search?query=%E5%A4%A9%E5%AE%89%E9%97%A8%E4%B8%9C&tag=&region=%E5%8C%97%E4%BA%AC&output=json&ak=EwBUrSUNYuHSvvU7ZGmPSNHhpR4NS4No\n",
      "http://api.map.baidu.com/place/v2/search?query=%E7%8E%8B%E5%BA%9C%E4%BA%95&tag=&region=%E5%8C%97%E4%BA%AC&output=json&ak=EwBUrSUNYuHSvvU7ZGmPSNHhpR4NS4No\n",
      "http://api.map.baidu.com/place/v2/search?query=%E4%B8%9C%E5%8D%95&tag=&region=%E5%8C%97%E4%BA%AC&output=json&ak=EwBUrSUNYuHSvvU7ZGmPSNHhpR4NS4No\n",
      "http://api.map.baidu.com/place/v2/search?query=%E5%BB%BA%E5%9B%BD%E9%97%A8&tag=&region=%E5%8C%97%E4%BA%AC&output=json&ak=EwBUrSUNYuHSvvU7ZGmPSNHhpR4NS4No\n",
      "http://api.map.baidu.com/place/v2/search?query=%E6%B0%B8%E5%AE%89%E9%87%8C&tag=&region=%E5%8C%97%E4%BA%AC&output=json&ak=EwBUrSUNYuHSvvU7ZGmPSNHhpR4NS4No\n",
      "http://api.map.baidu.com/place/v2/search?query=%E5%9B%BD%E8%B4%B8&tag=&region=%E5%8C%97%E4%BA%AC&output=json&ak=EwBUrSUNYuHSvvU7ZGmPSNHhpR4NS4No\n",
      "http://api.map.baidu.com/place/v2/search?query=%E5%A4%A7%E6%9C%9B%E8%B7%AF&tag=&region=%E5%8C%97%E4%BA%AC&output=json&ak=EwBUrSUNYuHSvvU7ZGmPSNHhpR4NS4No\n",
      "http://api.map.baidu.com/place/v2/search?query=%E5%9B%9B%E6%83%A0&tag=&region=%E5%8C%97%E4%BA%AC&output=json&ak=EwBUrSUNYuHSvvU7ZGmPSNHhpR4NS4No\n",
      "http://api.map.baidu.com/place/v2/search?query=%E5%9B%9B%E6%83%A0%E4%B8%9C&tag=&region=%E5%8C%97%E4%BA%AC&output=json&ak=EwBUrSUNYuHSvvU7ZGmPSNHhpR4NS4No\n",
      "http://api.map.baidu.com/place/v2/search?query=%E8%A5%BF%E7%9B%B4%E9%97%A8&tag=&region=%E5%8C%97%E4%BA%AC&output=json&ak=EwBUrSUNYuHSvvU7ZGmPSNHhpR4NS4No\n",
      "http://api.map.baidu.com/place/v2/search?query=%E7%A7%AF%E6%B0%B4%E6%BD%AD&tag=&region=%E5%8C%97%E4%BA%AC&output=json&ak=EwBUrSUNYuHSvvU7ZGmPSNHhpR4NS4No\n",
      "http://api.map.baidu.com/place/v2/search?query=%E9%BC%93%E6%A5%BC%E5%A4%A7%E8%A1%97&tag=&region=%E5%8C%97%E4%BA%AC&output=json&ak=EwBUrSUNYuHSvvU7ZGmPSNHhpR4NS4No\n",
      "http://api.map.baidu.com/place/v2/search?query=%E5%AE%89%E5%AE%9A%E9%97%A8&tag=&region=%E5%8C%97%E4%BA%AC&output=json&ak=EwBUrSUNYuHSvvU7ZGmPSNHhpR4NS4No\n",
      "http://api.map.baidu.com/place/v2/search?query=%E9%9B%8D%E5%92%8C%E5%AE%AB&tag=&region=%E5%8C%97%E4%BA%AC&output=json&ak=EwBUrSUNYuHSvvU7ZGmPSNHhpR4NS4No\n",
      "http://api.map.baidu.com/place/v2/search?query=%E4%B8%9C%E7%9B%B4%E9%97%A8&tag=&region=%E5%8C%97%E4%BA%AC&output=json&ak=EwBUrSUNYuHSvvU7ZGmPSNHhpR4NS4No\n",
      "http://api.map.baidu.com/place/v2/search?query=%E4%B8%9C%E5%9B%9B%E5%8D%81%E6%9D%A1&tag=&region=%E5%8C%97%E4%BA%AC&output=json&ak=EwBUrSUNYuHSvvU7ZGmPSNHhpR4NS4No\n",
      "http://api.map.baidu.com/place/v2/search?query=%E6%9C%9D%E9%98%B3%E9%97%A8&tag=&region=%E5%8C%97%E4%BA%AC&output=json&ak=EwBUrSUNYuHSvvU7ZGmPSNHhpR4NS4No\n",
      "http://api.map.baidu.com/place/v2/search?query=%E5%BB%BA%E5%9B%BD%E9%97%A8&tag=&region=%E5%8C%97%E4%BA%AC&output=json&ak=EwBUrSUNYuHSvvU7ZGmPSNHhpR4NS4No\n",
      "http://api.map.baidu.com/place/v2/search?query=%E5%8C%97%E4%BA%AC%E7%AB%99&tag=&region=%E5%8C%97%E4%BA%AC&output=json&ak=EwBUrSUNYuHSvvU7ZGmPSNHhpR4NS4No\n",
      "http://api.map.baidu.com/place/v2/search?query=%E5%B4%87%E6%96%87%E9%97%A8&tag=&region=%E5%8C%97%E4%BA%AC&output=json&ak=EwBUrSUNYuHSvvU7ZGmPSNHhpR4NS4No\n",
      "http://api.map.baidu.com/place/v2/search?query=%E5%89%8D%E9%97%A8&tag=&region=%E5%8C%97%E4%BA%AC&output=json&ak=EwBUrSUNYuHSvvU7ZGmPSNHhpR4NS4No\n",
      "http://api.map.baidu.com/place/v2/search?query=%E5%92%8C%E5%B9%B3%E9%97%A8&tag=&region=%E5%8C%97%E4%BA%AC&output=json&ak=EwBUrSUNYuHSvvU7ZGmPSNHhpR4NS4No\n",
      "http://api.map.baidu.com/place/v2/search?query=%E5%AE%A3%E6%AD%A6%E9%97%A8&tag=&region=%E5%8C%97%E4%BA%AC&output=json&ak=EwBUrSUNYuHSvvU7ZGmPSNHhpR4NS4No\n",
      "http://api.map.baidu.com/place/v2/search?query=%E9%95%BF%E6%A4%BF%E8%A1%97&tag=&region=%E5%8C%97%E4%BA%AC&output=json&ak=EwBUrSUNYuHSvvU7ZGmPSNHhpR4NS4No\n",
      "http://api.map.baidu.com/place/v2/search?query=%E5%A4%8D%E5%85%B4%E9%97%A8&tag=&region=%E5%8C%97%E4%BA%AC&output=json&ak=EwBUrSUNYuHSvvU7ZGmPSNHhpR4NS4No\n",
      "http://api.map.baidu.com/place/v2/search?query=%E9%98%9C%E6%88%90%E9%97%A8&tag=&region=%E5%8C%97%E4%BA%AC&output=json&ak=EwBUrSUNYuHSvvU7ZGmPSNHhpR4NS4No\n",
      "http://api.map.baidu.com/place/v2/search?query=%E8%BD%A6%E5%85%AC%E5%BA%84&tag=&region=%E5%8C%97%E4%BA%AC&output=json&ak=EwBUrSUNYuHSvvU7ZGmPSNHhpR4NS4No\n",
      "http://api.map.baidu.com/place/v2/search?query=%E5%AE%89%E6%B2%B3%E6%A1%A5%E5%8C%97&tag=&region=%E5%8C%97%E4%BA%AC&output=json&ak=EwBUrSUNYuHSvvU7ZGmPSNHhpR4NS4No\n",
      "http://api.map.baidu.com/place/v2/search?query=%E5%8C%97%E5%AE%AB%E9%97%A8&tag=&region=%E5%8C%97%E4%BA%AC&output=json&ak=EwBUrSUNYuHSvvU7ZGmPSNHhpR4NS4No\n",
      "http://api.map.baidu.com/place/v2/search?query=%E8%A5%BF%E8%8B%91&tag=&region=%E5%8C%97%E4%BA%AC&output=json&ak=EwBUrSUNYuHSvvU7ZGmPSNHhpR4NS4No\n",
      "http://api.map.baidu.com/place/v2/search?query=%E5%9C%86%E6%98%8E%E5%9B%AD&tag=&region=%E5%8C%97%E4%BA%AC&output=json&ak=EwBUrSUNYuHSvvU7ZGmPSNHhpR4NS4No\n",
      "http://api.map.baidu.com/place/v2/search?query=%E5%8C%97%E4%BA%AC%E5%A4%A7%E5%AD%A6%E4%B8%9C%E9%97%A8&tag=&region=%E5%8C%97%E4%BA%AC&output=json&ak=EwBUrSUNYuHSvvU7ZGmPSNHhpR4NS4No\n",
      "http://api.map.baidu.com/place/v2/search?query=%E4%B8%AD%E5%85%B3%E6%9D%91&tag=&region=%E5%8C%97%E4%BA%AC&output=json&ak=EwBUrSUNYuHSvvU7ZGmPSNHhpR4NS4No\n",
      "http://api.map.baidu.com/place/v2/search?query=%E6%B5%B7%E6%B7%80%E9%BB%84%E5%BA%84&tag=&region=%E5%8C%97%E4%BA%AC&output=json&ak=EwBUrSUNYuHSvvU7ZGmPSNHhpR4NS4No\n",
      "http://api.map.baidu.com/place/v2/search?query=%E4%BA%BA%E6%B0%91%E5%A4%A7%E5%AD%A6&tag=&region=%E5%8C%97%E4%BA%AC&output=json&ak=EwBUrSUNYuHSvvU7ZGmPSNHhpR4NS4No\n",
      "http://api.map.baidu.com/place/v2/search?query=%E9%AD%8F%E5%85%AC%E6%9D%91&tag=&region=%E5%8C%97%E4%BA%AC&output=json&ak=EwBUrSUNYuHSvvU7ZGmPSNHhpR4NS4No\n",
      "http://api.map.baidu.com/place/v2/search?query=%E5%9B%BD%E5%AE%B6%E5%9B%BE%E4%B9%A6%E9%A6%86&tag=&region=%E5%8C%97%E4%BA%AC&output=json&ak=EwBUrSUNYuHSvvU7ZGmPSNHhpR4NS4No\n",
      "http://api.map.baidu.com/place/v2/search?query=%E5%8A%A8%E7%89%A9%E5%9B%AD&tag=&region=%E5%8C%97%E4%BA%AC&output=json&ak=EwBUrSUNYuHSvvU7ZGmPSNHhpR4NS4No\n",
      "http://api.map.baidu.com/place/v2/search?query=%E8%A5%BF%E7%9B%B4%E9%97%A8&tag=&region=%E5%8C%97%E4%BA%AC&output=json&ak=EwBUrSUNYuHSvvU7ZGmPSNHhpR4NS4No\n"
     ]
    },
    {
     "name": "stdout",
     "output_type": "stream",
     "text": [
      "http://api.map.baidu.com/place/v2/search?query=%E6%96%B0%E8%A1%97%E5%8F%A3&tag=&region=%E5%8C%97%E4%BA%AC&output=json&ak=EwBUrSUNYuHSvvU7ZGmPSNHhpR4NS4No\n",
      "http://api.map.baidu.com/place/v2/search?query=%E5%B9%B3%E5%AE%89%E9%87%8C&tag=&region=%E5%8C%97%E4%BA%AC&output=json&ak=EwBUrSUNYuHSvvU7ZGmPSNHhpR4NS4No\n",
      "http://api.map.baidu.com/place/v2/search?query=%E8%A5%BF%E5%9B%9B&tag=&region=%E5%8C%97%E4%BA%AC&output=json&ak=EwBUrSUNYuHSvvU7ZGmPSNHhpR4NS4No\n",
      "http://api.map.baidu.com/place/v2/search?query=%E7%81%B5%E5%A2%83%E8%83%A1%E5%90%8C&tag=&region=%E5%8C%97%E4%BA%AC&output=json&ak=EwBUrSUNYuHSvvU7ZGmPSNHhpR4NS4No\n",
      "http://api.map.baidu.com/place/v2/search?query=%E8%A5%BF%E5%8D%95&tag=&region=%E5%8C%97%E4%BA%AC&output=json&ak=EwBUrSUNYuHSvvU7ZGmPSNHhpR4NS4No\n",
      "http://api.map.baidu.com/place/v2/search?query=%E5%AE%A3%E6%AD%A6%E9%97%A8&tag=&region=%E5%8C%97%E4%BA%AC&output=json&ak=EwBUrSUNYuHSvvU7ZGmPSNHhpR4NS4No\n",
      "http://api.map.baidu.com/place/v2/search?query=%E8%8F%9C%E5%B8%82%E5%8F%A3&tag=&region=%E5%8C%97%E4%BA%AC&output=json&ak=EwBUrSUNYuHSvvU7ZGmPSNHhpR4NS4No\n",
      "http://api.map.baidu.com/place/v2/search?query=%E9%99%B6%E7%84%B6%E4%BA%AD&tag=&region=%E5%8C%97%E4%BA%AC&output=json&ak=EwBUrSUNYuHSvvU7ZGmPSNHhpR4NS4No\n",
      "http://api.map.baidu.com/place/v2/search?query=%E5%8C%97%E4%BA%AC%E5%8D%97%E7%AB%99&tag=&region=%E5%8C%97%E4%BA%AC&output=json&ak=EwBUrSUNYuHSvvU7ZGmPSNHhpR4NS4No\n",
      "http://api.map.baidu.com/place/v2/search?query=%E9%A9%AC%E5%AE%B6%E5%A0%A1&tag=&region=%E5%8C%97%E4%BA%AC&output=json&ak=EwBUrSUNYuHSvvU7ZGmPSNHhpR4NS4No\n",
      "http://api.map.baidu.com/place/v2/search?query=%E8%A7%92%E9%97%A8%E8%A5%BF&tag=&region=%E5%8C%97%E4%BA%AC&output=json&ak=EwBUrSUNYuHSvvU7ZGmPSNHhpR4NS4No\n",
      "http://api.map.baidu.com/place/v2/search?query=%E5%85%AC%E7%9B%8A%E8%A5%BF%E6%A1%A5&tag=&region=%E5%8C%97%E4%BA%AC&output=json&ak=EwBUrSUNYuHSvvU7ZGmPSNHhpR4NS4No\n",
      "http://api.map.baidu.com/place/v2/search?query=%E5%AE%8B%E5%AE%B6%E5%BA%84&tag=&region=%E5%8C%97%E4%BA%AC&output=json&ak=EwBUrSUNYuHSvvU7ZGmPSNHhpR4NS4No\n",
      "http://api.map.baidu.com/place/v2/search?query=%E5%88%98%E5%AE%B6%E7%AA%91&tag=&region=%E5%8C%97%E4%BA%AC&output=json&ak=EwBUrSUNYuHSvvU7ZGmPSNHhpR4NS4No\n",
      "http://api.map.baidu.com/place/v2/search?query=%E8%92%B2%E9%BB%84%E6%A6%86&tag=&region=%E5%8C%97%E4%BA%AC&output=json&ak=EwBUrSUNYuHSvvU7ZGmPSNHhpR4NS4No\n",
      "http://api.map.baidu.com/place/v2/search?query=%E5%A4%A9%E5%9D%9B%E4%B8%9C%E9%97%A8&tag=&region=%E5%8C%97%E4%BA%AC&output=json&ak=EwBUrSUNYuHSvvU7ZGmPSNHhpR4NS4No\n",
      "http://api.map.baidu.com/place/v2/search?query=%E7%A3%81%E5%99%A8%E5%8F%A3&tag=&region=%E5%8C%97%E4%BA%AC&output=json&ak=EwBUrSUNYuHSvvU7ZGmPSNHhpR4NS4No\n",
      "http://api.map.baidu.com/place/v2/search?query=%E5%B4%87%E6%96%87%E9%97%A8&tag=&region=%E5%8C%97%E4%BA%AC&output=json&ak=EwBUrSUNYuHSvvU7ZGmPSNHhpR4NS4No\n",
      "http://api.map.baidu.com/place/v2/search?query=%E4%B8%9C%E5%8D%95&tag=&region=%E5%8C%97%E4%BA%AC&output=json&ak=EwBUrSUNYuHSvvU7ZGmPSNHhpR4NS4No\n",
      "http://api.map.baidu.com/place/v2/search?query=%E7%81%AF%E5%B8%82%E5%8F%A3&tag=&region=%E5%8C%97%E4%BA%AC&output=json&ak=EwBUrSUNYuHSvvU7ZGmPSNHhpR4NS4No\n",
      "http://api.map.baidu.com/place/v2/search?query=%E4%B8%9C%E5%9B%9B&tag=&region=%E5%8C%97%E4%BA%AC&output=json&ak=EwBUrSUNYuHSvvU7ZGmPSNHhpR4NS4No\n",
      "http://api.map.baidu.com/place/v2/search?query=%E5%BC%A0%E8%87%AA%E5%BF%A0%E8%B7%AF&tag=&region=%E5%8C%97%E4%BA%AC&output=json&ak=EwBUrSUNYuHSvvU7ZGmPSNHhpR4NS4No\n",
      "http://api.map.baidu.com/place/v2/search?query=%E5%8C%97%E6%96%B0%E6%A1%A5&tag=&region=%E5%8C%97%E4%BA%AC&output=json&ak=EwBUrSUNYuHSvvU7ZGmPSNHhpR4NS4No\n",
      "http://api.map.baidu.com/place/v2/search?query=%E9%9B%8D%E5%92%8C%E5%AE%AB&tag=&region=%E5%8C%97%E4%BA%AC&output=json&ak=EwBUrSUNYuHSvvU7ZGmPSNHhpR4NS4No\n",
      "http://api.map.baidu.com/place/v2/search?query=%E5%92%8C%E5%B9%B3%E9%87%8C%E5%8C%97%E8%A1%97&tag=&region=%E5%8C%97%E4%BA%AC&output=json&ak=EwBUrSUNYuHSvvU7ZGmPSNHhpR4NS4No\n",
      "http://api.map.baidu.com/place/v2/search?query=%E5%92%8C%E5%B9%B3%E8%A5%BF%E6%A1%A5&tag=&region=%E5%8C%97%E4%BA%AC&output=json&ak=EwBUrSUNYuHSvvU7ZGmPSNHhpR4NS4No\n",
      "http://api.map.baidu.com/place/v2/search?query=%E6%83%A0%E6%96%B0%E8%A5%BF%E8%A1%97%E5%8D%97%E5%8F%A3&tag=&region=%E5%8C%97%E4%BA%AC&output=json&ak=EwBUrSUNYuHSvvU7ZGmPSNHhpR4NS4No\n",
      "http://api.map.baidu.com/place/v2/search?query=%E6%83%A0%E6%96%B0%E8%A5%BF%E8%A1%97%E5%8C%97%E5%8F%A3&tag=&region=%E5%8C%97%E4%BA%AC&output=json&ak=EwBUrSUNYuHSvvU7ZGmPSNHhpR4NS4No\n",
      "http://api.map.baidu.com/place/v2/search?query=%E5%A4%A7%E5%B1%AF%E8%B7%AF%E4%B8%9C&tag=&region=%E5%8C%97%E4%BA%AC&output=json&ak=EwBUrSUNYuHSvvU7ZGmPSNHhpR4NS4No\n",
      "http://api.map.baidu.com/place/v2/search?query=%E5%8C%97%E8%8B%91%E8%B7%AF%E5%8C%97&tag=&region=%E5%8C%97%E4%BA%AC&output=json&ak=EwBUrSUNYuHSvvU7ZGmPSNHhpR4NS4No\n",
      "http://api.map.baidu.com/place/v2/search?query=%E7%AB%8B%E6%B0%B4%E6%A1%A5%E5%8D%97&tag=&region=%E5%8C%97%E4%BA%AC&output=json&ak=EwBUrSUNYuHSvvU7ZGmPSNHhpR4NS4No\n",
      "http://api.map.baidu.com/place/v2/search?query=%E7%AB%8B%E6%B0%B4%E6%A1%A5&tag=&region=%E5%8C%97%E4%BA%AC&output=json&ak=EwBUrSUNYuHSvvU7ZGmPSNHhpR4NS4No\n",
      "http://api.map.baidu.com/place/v2/search?query=%E5%A4%A9%E9%80%9A%E8%8B%91%E5%8D%97&tag=&region=%E5%8C%97%E4%BA%AC&output=json&ak=EwBUrSUNYuHSvvU7ZGmPSNHhpR4NS4No\n",
      "http://api.map.baidu.com/place/v2/search?query=%E5%A4%A9%E9%80%9A%E8%8B%91&tag=&region=%E5%8C%97%E4%BA%AC&output=json&ak=EwBUrSUNYuHSvvU7ZGmPSNHhpR4NS4No\n",
      "http://api.map.baidu.com/place/v2/search?query=%E5%A4%A9%E9%80%9A%E8%8B%91%E5%8C%97&tag=&region=%E5%8C%97%E4%BA%AC&output=json&ak=EwBUrSUNYuHSvvU7ZGmPSNHhpR4NS4No\n",
      "http://api.map.baidu.com/place/v2/search?query=%E9%87%91%E5%AE%89%E6%A1%A5&tag=&region=%E5%8C%97%E4%BA%AC&output=json&ak=EwBUrSUNYuHSvvU7ZGmPSNHhpR4NS4No\n",
      "http://api.map.baidu.com/place/v2/search?query=%E8%8B%B9%E6%9E%9C%E5%9B%AD&tag=&region=%E5%8C%97%E4%BA%AC&output=json&ak=EwBUrSUNYuHSvvU7ZGmPSNHhpR4NS4No\n",
      "http://api.map.baidu.com/place/v2/search?query=%E6%9D%A8%E5%BA%84&tag=&region=%E5%8C%97%E4%BA%AC&output=json&ak=EwBUrSUNYuHSvvU7ZGmPSNHhpR4NS4No\n",
      "http://api.map.baidu.com/place/v2/search?query=%E8%A5%BF%E9%BB%84%E6%9D%91&tag=&region=%E5%8C%97%E4%BA%AC&output=json&ak=EwBUrSUNYuHSvvU7ZGmPSNHhpR4NS4No\n",
      "http://api.map.baidu.com/place/v2/search?query=%E5%BB%96%E5%85%AC%E5%BA%84&tag=&region=%E5%8C%97%E4%BA%AC&output=json&ak=EwBUrSUNYuHSvvU7ZGmPSNHhpR4NS4No\n",
      "http://api.map.baidu.com/place/v2/search?query=%E7%94%B0%E6%9D%91&tag=&region=%E5%8C%97%E4%BA%AC&output=json&ak=EwBUrSUNYuHSvvU7ZGmPSNHhpR4NS4No\n",
      "http://api.map.baidu.com/place/v2/search?query=%E6%B5%B7%E6%B7%80%E4%BA%94%E8%B7%AF%E5%B1%85&tag=&region=%E5%8C%97%E4%BA%AC&output=json&ak=EwBUrSUNYuHSvvU7ZGmPSNHhpR4NS4No\n",
      "http://api.map.baidu.com/place/v2/search?query=%E6%85%88%E5%AF%BF%E5%AF%BA&tag=&region=%E5%8C%97%E4%BA%AC&output=json&ak=EwBUrSUNYuHSvvU7ZGmPSNHhpR4NS4No\n",
      "http://api.map.baidu.com/place/v2/search?query=%E8%8A%B1%E5%9B%AD%E6%A1%A5&tag=&region=%E5%8C%97%E4%BA%AC&output=json&ak=EwBUrSUNYuHSvvU7ZGmPSNHhpR4NS4No\n",
      "http://api.map.baidu.com/place/v2/search?query=%E7%99%BD%E7%9F%B3%E6%A1%A5%E5%8D%97&tag=&region=%E5%8C%97%E4%BA%AC&output=json&ak=EwBUrSUNYuHSvvU7ZGmPSNHhpR4NS4No\n",
      "http://api.map.baidu.com/place/v2/search?query=%E8%BD%A6%E5%85%AC%E5%BA%84%E8%A5%BF&tag=&region=%E5%8C%97%E4%BA%AC&output=json&ak=EwBUrSUNYuHSvvU7ZGmPSNHhpR4NS4No\n",
      "http://api.map.baidu.com/place/v2/search?query=%E8%BD%A6%E5%85%AC%E5%BA%84&tag=&region=%E5%8C%97%E4%BA%AC&output=json&ak=EwBUrSUNYuHSvvU7ZGmPSNHhpR4NS4No\n",
      "http://api.map.baidu.com/place/v2/search?query=%E5%B9%B3%E5%AE%89%E9%87%8C&tag=&region=%E5%8C%97%E4%BA%AC&output=json&ak=EwBUrSUNYuHSvvU7ZGmPSNHhpR4NS4No\n",
      "http://api.map.baidu.com/place/v2/search?query=%E5%8C%97%E6%B5%B7%E5%8C%97&tag=&region=%E5%8C%97%E4%BA%AC&output=json&ak=EwBUrSUNYuHSvvU7ZGmPSNHhpR4NS4No\n",
      "http://api.map.baidu.com/place/v2/search?query=%E5%8D%97%E9%94%A3%E9%BC%93%E5%B7%B7&tag=&region=%E5%8C%97%E4%BA%AC&output=json&ak=EwBUrSUNYuHSvvU7ZGmPSNHhpR4NS4No\n",
      "http://api.map.baidu.com/place/v2/search?query=%E4%B8%9C%E5%9B%9B&tag=&region=%E5%8C%97%E4%BA%AC&output=json&ak=EwBUrSUNYuHSvvU7ZGmPSNHhpR4NS4No\n",
      "http://api.map.baidu.com/place/v2/search?query=%E6%9C%9D%E9%98%B3%E9%97%A8&tag=&region=%E5%8C%97%E4%BA%AC&output=json&ak=EwBUrSUNYuHSvvU7ZGmPSNHhpR4NS4No\n",
      "http://api.map.baidu.com/place/v2/search?query=%E4%B8%9C%E5%A4%A7%E6%A1%A5&tag=&region=%E5%8C%97%E4%BA%AC&output=json&ak=EwBUrSUNYuHSvvU7ZGmPSNHhpR4NS4No\n"
     ]
    },
    {
     "name": "stdout",
     "output_type": "stream",
     "text": [
      "http://api.map.baidu.com/place/v2/search?query=%E5%91%BC%E5%AE%B6%E6%A5%BC&tag=&region=%E5%8C%97%E4%BA%AC&output=json&ak=EwBUrSUNYuHSvvU7ZGmPSNHhpR4NS4No\n",
      "http://api.map.baidu.com/place/v2/search?query=%E9%87%91%E5%8F%B0%E8%B7%AF&tag=&region=%E5%8C%97%E4%BA%AC&output=json&ak=EwBUrSUNYuHSvvU7ZGmPSNHhpR4NS4No\n",
      "http://api.map.baidu.com/place/v2/search?query=%E5%8D%81%E9%87%8C%E5%A0%A1&tag=&region=%E5%8C%97%E4%BA%AC&output=json&ak=EwBUrSUNYuHSvvU7ZGmPSNHhpR4NS4No\n",
      "http://api.map.baidu.com/place/v2/search?query=%E9%9D%92%E5%B9%B4%E8%B7%AF&tag=&region=%E5%8C%97%E4%BA%AC&output=json&ak=EwBUrSUNYuHSvvU7ZGmPSNHhpR4NS4No\n",
      "http://api.map.baidu.com/place/v2/search?query=%E8%A4%A1%E8%A3%A2%E5%9D%A1&tag=&region=%E5%8C%97%E4%BA%AC&output=json&ak=EwBUrSUNYuHSvvU7ZGmPSNHhpR4NS4No\n",
      "http://api.map.baidu.com/place/v2/search?query=%E9%BB%84%E6%B8%A0&tag=&region=%E5%8C%97%E4%BA%AC&output=json&ak=EwBUrSUNYuHSvvU7ZGmPSNHhpR4NS4No\n",
      "http://api.map.baidu.com/place/v2/search?query=%E5%B8%B8%E8%90%A5&tag=&region=%E5%8C%97%E4%BA%AC&output=json&ak=EwBUrSUNYuHSvvU7ZGmPSNHhpR4NS4No\n",
      "http://api.map.baidu.com/place/v2/search?query=%E8%8D%89%E6%88%BF&tag=&region=%E5%8C%97%E4%BA%AC&output=json&ak=EwBUrSUNYuHSvvU7ZGmPSNHhpR4NS4No\n",
      "http://api.map.baidu.com/place/v2/search?query=%E7%89%A9%E8%B5%84%E5%AD%A6%E9%99%A2%E8%B7%AF&tag=&region=%E5%8C%97%E4%BA%AC&output=json&ak=EwBUrSUNYuHSvvU7ZGmPSNHhpR4NS4No\n",
      "http://api.map.baidu.com/place/v2/search?query=%E9%80%9A%E5%B7%9E%E5%8C%97%E5%85%B3&tag=&region=%E5%8C%97%E4%BA%AC&output=json&ak=EwBUrSUNYuHSvvU7ZGmPSNHhpR4NS4No\n",
      "http://api.map.baidu.com/place/v2/search?query=%E9%80%9A%E8%BF%90%E9%97%A8&tag=&region=%E5%8C%97%E4%BA%AC&output=json&ak=EwBUrSUNYuHSvvU7ZGmPSNHhpR4NS4No\n",
      "http://api.map.baidu.com/place/v2/search?query=%E5%8C%97%E8%BF%90%E6%B2%B3%E8%A5%BF&tag=&region=%E5%8C%97%E4%BA%AC&output=json&ak=EwBUrSUNYuHSvvU7ZGmPSNHhpR4NS4No\n",
      "http://api.map.baidu.com/place/v2/search?query=%E5%8C%97%E8%BF%90%E6%B2%B3%E4%B8%9C&tag=&region=%E5%8C%97%E4%BA%AC&output=json&ak=EwBUrSUNYuHSvvU7ZGmPSNHhpR4NS4No\n",
      "http://api.map.baidu.com/place/v2/search?query=%E9%83%9D%E5%AE%B6%E5%BA%9C&tag=&region=%E5%8C%97%E4%BA%AC&output=json&ak=EwBUrSUNYuHSvvU7ZGmPSNHhpR4NS4No\n",
      "http://api.map.baidu.com/place/v2/search?query=%E4%B8%9C%E5%A4%8F%E5%9B%AD&tag=&region=%E5%8C%97%E4%BA%AC&output=json&ak=EwBUrSUNYuHSvvU7ZGmPSNHhpR4NS4No\n",
      "http://api.map.baidu.com/place/v2/search?query=%E6%BD%9E%E5%9F%8E&tag=&region=%E5%8C%97%E4%BA%AC&output=json&ak=EwBUrSUNYuHSvvU7ZGmPSNHhpR4NS4No\n",
      "http://api.map.baidu.com/place/v2/search?query=%E5%8C%97%E4%BA%AC%E8%A5%BF%E7%AB%99&tag=&region=%E5%8C%97%E4%BA%AC&output=json&ak=EwBUrSUNYuHSvvU7ZGmPSNHhpR4NS4No\n",
      "http://api.map.baidu.com/place/v2/search?query=%E6%B9%BE%E5%AD%90&tag=&region=%E5%8C%97%E4%BA%AC&output=json&ak=EwBUrSUNYuHSvvU7ZGmPSNHhpR4NS4No\n",
      "http://api.map.baidu.com/place/v2/search?query=%E8%BE%BE%E5%AE%98%E8%90%A5&tag=&region=%E5%8C%97%E4%BA%AC&output=json&ak=EwBUrSUNYuHSvvU7ZGmPSNHhpR4NS4No\n",
      "http://api.map.baidu.com/place/v2/search?query=%E5%B9%BF%E5%AE%89%E9%97%A8%E5%86%85&tag=&region=%E5%8C%97%E4%BA%AC&output=json&ak=EwBUrSUNYuHSvvU7ZGmPSNHhpR4NS4No\n",
      "http://api.map.baidu.com/place/v2/search?query=%E8%8F%9C%E5%B8%82%E5%8F%A3&tag=&region=%E5%8C%97%E4%BA%AC&output=json&ak=EwBUrSUNYuHSvvU7ZGmPSNHhpR4NS4No\n",
      "http://api.map.baidu.com/place/v2/search?query=%E8%99%8E%E5%9D%8A%E6%A1%A5&tag=&region=%E5%8C%97%E4%BA%AC&output=json&ak=EwBUrSUNYuHSvvU7ZGmPSNHhpR4NS4No\n",
      "http://api.map.baidu.com/place/v2/search?query=%E7%8F%A0%E5%B8%82%E5%8F%A3&tag=&region=%E5%8C%97%E4%BA%AC&output=json&ak=EwBUrSUNYuHSvvU7ZGmPSNHhpR4NS4No\n",
      "http://api.map.baidu.com/place/v2/search?query=%E6%A1%A5%E6%B9%BE&tag=&region=%E5%8C%97%E4%BA%AC&output=json&ak=EwBUrSUNYuHSvvU7ZGmPSNHhpR4NS4No\n",
      "http://api.map.baidu.com/place/v2/search?query=%E7%A3%81%E5%99%A8%E5%8F%A3&tag=&region=%E5%8C%97%E4%BA%AC&output=json&ak=EwBUrSUNYuHSvvU7ZGmPSNHhpR4NS4No\n",
      "http://api.map.baidu.com/place/v2/search?query=%E5%B9%BF%E6%B8%A0%E9%97%A8%E5%86%85&tag=&region=%E5%8C%97%E4%BA%AC&output=json&ak=EwBUrSUNYuHSvvU7ZGmPSNHhpR4NS4No\n",
      "http://api.map.baidu.com/place/v2/search?query=%E5%B9%BF%E6%B8%A0%E9%97%A8%E5%A4%96&tag=&region=%E5%8C%97%E4%BA%AC&output=json&ak=EwBUrSUNYuHSvvU7ZGmPSNHhpR4NS4No\n",
      "http://api.map.baidu.com/place/v2/search?query=%E5%8F%8C%E4%BA%95&tag=&region=%E5%8C%97%E4%BA%AC&output=json&ak=EwBUrSUNYuHSvvU7ZGmPSNHhpR4NS4No\n",
      "http://api.map.baidu.com/place/v2/search?query=%E4%B9%9D%E9%BE%99%E5%B1%B1&tag=&region=%E5%8C%97%E4%BA%AC&output=json&ak=EwBUrSUNYuHSvvU7ZGmPSNHhpR4NS4No\n",
      "http://api.map.baidu.com/place/v2/search?query=%E5%A4%A7%E9%83%8A%E4%BA%AD&tag=&region=%E5%8C%97%E4%BA%AC&output=json&ak=EwBUrSUNYuHSvvU7ZGmPSNHhpR4NS4No\n",
      "http://api.map.baidu.com/place/v2/search?query=%E7%99%BE%E5%AD%90%E6%B9%BE&tag=&region=%E5%8C%97%E4%BA%AC&output=json&ak=EwBUrSUNYuHSvvU7ZGmPSNHhpR4NS4No\n",
      "http://api.map.baidu.com/place/v2/search?query=%E5%8C%96%E5%B7%A5&tag=&region=%E5%8C%97%E4%BA%AC&output=json&ak=EwBUrSUNYuHSvvU7ZGmPSNHhpR4NS4No\n",
      "http://api.map.baidu.com/place/v2/search?query=%E5%8D%97%E6%A5%BC%E6%A2%93%E5%BA%84&tag=&region=%E5%8C%97%E4%BA%AC&output=json&ak=EwBUrSUNYuHSvvU7ZGmPSNHhpR4NS4No\n",
      "http://api.map.baidu.com/place/v2/search?query=%E6%AC%A2%E4%B9%90%E8%B0%B7%E6%99%AF%E5%8C%BA&tag=&region=%E5%8C%97%E4%BA%AC&output=json&ak=EwBUrSUNYuHSvvU7ZGmPSNHhpR4NS4No\n",
      "http://api.map.baidu.com/place/v2/search?query=%E5%9E%A1%E5%A4%B4&tag=&region=%E5%8C%97%E4%BA%AC&output=json&ak=EwBUrSUNYuHSvvU7ZGmPSNHhpR4NS4No\n",
      "http://api.map.baidu.com/place/v2/search?query=%E5%8F%8C%E5%90%88&tag=&region=%E5%8C%97%E4%BA%AC&output=json&ak=EwBUrSUNYuHSvvU7ZGmPSNHhpR4NS4No\n",
      "http://api.map.baidu.com/place/v2/search?query=%E7%84%A6%E5%8C%96%E5%8E%82&tag=&region=%E5%8C%97%E4%BA%AC&output=json&ak=EwBUrSUNYuHSvvU7ZGmPSNHhpR4NS4No\n",
      "http://api.map.baidu.com/place/v2/search?query=%E9%BB%84%E5%8E%82&tag=&region=%E5%8C%97%E4%BA%AC&output=json&ak=EwBUrSUNYuHSvvU7ZGmPSNHhpR4NS4No\n",
      "http://api.map.baidu.com/place/v2/search?query=%E9%83%8E%E8%BE%9B%E5%BA%84&tag=&region=%E5%8C%97%E4%BA%AC&output=json&ak=EwBUrSUNYuHSvvU7ZGmPSNHhpR4NS4No\n",
      "http://api.map.baidu.com/place/v2/search?query=%E9%BB%91%E5%BA%84%E6%88%B7&tag=&region=%E5%8C%97%E4%BA%AC&output=json&ak=EwBUrSUNYuHSvvU7ZGmPSNHhpR4NS4No\n",
      "http://api.map.baidu.com/place/v2/search?query=%E4%B8%87%E7%9B%9B%E8%A5%BF&tag=&region=%E5%8C%97%E4%BA%AC&output=json&ak=EwBUrSUNYuHSvvU7ZGmPSNHhpR4NS4No\n",
      "http://api.map.baidu.com/place/v2/search?query=%E4%B8%87%E7%9B%9B%E4%B8%9C&tag=&region=%E5%8C%97%E4%BA%AC&output=json&ak=EwBUrSUNYuHSvvU7ZGmPSNHhpR4NS4No\n",
      "http://api.map.baidu.com/place/v2/search?query=%E7%BE%A4%E8%8A%B3&tag=&region=%E5%8C%97%E4%BA%AC&output=json&ak=EwBUrSUNYuHSvvU7ZGmPSNHhpR4NS4No\n",
      "http://api.map.baidu.com/place/v2/search?query=%E9%AB%98%E6%A5%BC%E9%87%91&tag=&region=%E5%8C%97%E4%BA%AC&output=json&ak=EwBUrSUNYuHSvvU7ZGmPSNHhpR4NS4No\n",
      "http://api.map.baidu.com/place/v2/search?query=%E8%8A%B1%E5%BA%84&tag=&region=%E5%8C%97%E4%BA%AC&output=json&ak=EwBUrSUNYuHSvvU7ZGmPSNHhpR4NS4No\n",
      "http://api.map.baidu.com/place/v2/search?query=%E6%9C%B1%E8%BE%9B%E5%BA%84&tag=&region=%E5%8C%97%E4%BA%AC&output=json&ak=EwBUrSUNYuHSvvU7ZGmPSNHhpR4NS4No\n",
      "http://api.map.baidu.com/place/v2/search?query=%E8%82%B2%E7%9F%A5%E8%B7%AF&tag=&region=%E5%8C%97%E4%BA%AC&output=json&ak=EwBUrSUNYuHSvvU7ZGmPSNHhpR4NS4No\n",
      "http://api.map.baidu.com/place/v2/search?query=%E5%B9%B3%E8%A5%BF%E5%BA%9C&tag=&region=%E5%8C%97%E4%BA%AC&output=json&ak=EwBUrSUNYuHSvvU7ZGmPSNHhpR4NS4No\n",
      "http://api.map.baidu.com/place/v2/search?query=%E5%9B%9E%E9%BE%99%E8%A7%82%E4%B8%9C%E5%A4%A7%E8%A1%97&tag=&region=%E5%8C%97%E4%BA%AC&output=json&ak=EwBUrSUNYuHSvvU7ZGmPSNHhpR4NS4No\n",
      "http://api.map.baidu.com/place/v2/search?query=%E9%9C%8D%E8%90%A5&tag=&region=%E5%8C%97%E4%BA%AC&output=json&ak=EwBUrSUNYuHSvvU7ZGmPSNHhpR4NS4No\n",
      "http://api.map.baidu.com/place/v2/search?query=%E8%82%B2%E6%96%B0&tag=&region=%E5%8C%97%E4%BA%AC&output=json&ak=EwBUrSUNYuHSvvU7ZGmPSNHhpR4NS4No\n",
      "http://api.map.baidu.com/place/v2/search?query=%E8%A5%BF%E5%B0%8F%E5%8F%A3&tag=&region=%E5%8C%97%E4%BA%AC&output=json&ak=EwBUrSUNYuHSvvU7ZGmPSNHhpR4NS4No\n",
      "http://api.map.baidu.com/place/v2/search?query=%E6%B0%B8%E6%B3%B0%E5%BA%84&tag=&region=%E5%8C%97%E4%BA%AC&output=json&ak=EwBUrSUNYuHSvvU7ZGmPSNHhpR4NS4No\n",
      "http://api.map.baidu.com/place/v2/search?query=%E6%9E%97%E8%90%83%E6%A1%A5&tag=&region=%E5%8C%97%E4%BA%AC&output=json&ak=EwBUrSUNYuHSvvU7ZGmPSNHhpR4NS4No\n"
     ]
    },
    {
     "name": "stdout",
     "output_type": "stream",
     "text": [
      "http://api.map.baidu.com/place/v2/search?query=%E6%A3%AE%E6%9E%97%E5%85%AC%E5%9B%AD%E5%8D%97%E9%97%A8&tag=&region=%E5%8C%97%E4%BA%AC&output=json&ak=EwBUrSUNYuHSvvU7ZGmPSNHhpR4NS4No\n",
      "http://api.map.baidu.com/place/v2/search?query=%E5%A5%A5%E6%9E%97%E5%8C%B9%E5%85%8B%E5%85%AC%E5%9B%AD&tag=&region=%E5%8C%97%E4%BA%AC&output=json&ak=EwBUrSUNYuHSvvU7ZGmPSNHhpR4NS4No\n",
      "http://api.map.baidu.com/place/v2/search?query=%E5%A5%A5%E4%BD%93%E4%B8%AD%E5%BF%83&tag=&region=%E5%8C%97%E4%BA%AC&output=json&ak=EwBUrSUNYuHSvvU7ZGmPSNHhpR4NS4No\n",
      "http://api.map.baidu.com/place/v2/search?query=%E5%8C%97%E5%9C%9F%E5%9F%8E&tag=&region=%E5%8C%97%E4%BA%AC&output=json&ak=EwBUrSUNYuHSvvU7ZGmPSNHhpR4NS4No\n",
      "http://api.map.baidu.com/place/v2/search?query=%E5%AE%89%E5%8D%8E%E6%A1%A5&tag=&region=%E5%8C%97%E4%BA%AC&output=json&ak=EwBUrSUNYuHSvvU7ZGmPSNHhpR4NS4No\n",
      "http://api.map.baidu.com/place/v2/search?query=%E5%AE%89%E5%BE%B7%E9%87%8C%E5%8C%97%E8%A1%97&tag=&region=%E5%8C%97%E4%BA%AC&output=json&ak=EwBUrSUNYuHSvvU7ZGmPSNHhpR4NS4No\n",
      "http://api.map.baidu.com/place/v2/search?query=%E9%BC%93%E6%A5%BC%E5%A4%A7%E8%A1%97&tag=&region=%E5%8C%97%E4%BA%AC&output=json&ak=EwBUrSUNYuHSvvU7ZGmPSNHhpR4NS4No\n",
      "http://api.map.baidu.com/place/v2/search?query=%E4%BB%80%E5%88%B9%E6%B5%B7&tag=&region=%E5%8C%97%E4%BA%AC&output=json&ak=EwBUrSUNYuHSvvU7ZGmPSNHhpR4NS4No\n",
      "http://api.map.baidu.com/place/v2/search?query=%E5%8D%97%E9%94%A3%E9%BC%93%E5%B7%B7&tag=&region=%E5%8C%97%E4%BA%AC&output=json&ak=EwBUrSUNYuHSvvU7ZGmPSNHhpR4NS4No\n",
      "http://api.map.baidu.com/place/v2/search?query=%E4%B8%AD%E5%9B%BD%E7%BE%8E%E6%9C%AF%E9%A6%86&tag=&region=%E5%8C%97%E4%BA%AC&output=json&ak=EwBUrSUNYuHSvvU7ZGmPSNHhpR4NS4No\n",
      "http://api.map.baidu.com/place/v2/search?query=%E7%8F%A0%E5%B8%82%E5%8F%A3&tag=&region=%E5%8C%97%E4%BA%AC&output=json&ak=EwBUrSUNYuHSvvU7ZGmPSNHhpR4NS4No\n",
      "http://api.map.baidu.com/place/v2/search?query=%E5%A4%A9%E6%A1%A5&tag=&region=%E5%8C%97%E4%BA%AC&output=json&ak=EwBUrSUNYuHSvvU7ZGmPSNHhpR4NS4No\n",
      "http://api.map.baidu.com/place/v2/search?query=%E6%B0%B8%E5%AE%9A%E9%97%A8%E5%A4%96&tag=&region=%E5%8C%97%E4%BA%AC&output=json&ak=EwBUrSUNYuHSvvU7ZGmPSNHhpR4NS4No\n",
      "http://api.map.baidu.com/place/v2/search?query=%E6%9C%A8%E6%A8%A8%E5%9B%AD&tag=&region=%E5%8C%97%E4%BA%AC&output=json&ak=EwBUrSUNYuHSvvU7ZGmPSNHhpR4NS4No\n",
      "http://api.map.baidu.com/place/v2/search?query=%E6%B5%B7%E6%88%B7%E5%B1%AF&tag=&region=%E5%8C%97%E4%BA%AC&output=json&ak=EwBUrSUNYuHSvvU7ZGmPSNHhpR4NS4No\n",
      "http://api.map.baidu.com/place/v2/search?query=%E5%A4%A7%E7%BA%A2%E9%97%A8&tag=&region=%E5%8C%97%E4%BA%AC&output=json&ak=EwBUrSUNYuHSvvU7ZGmPSNHhpR4NS4No\n",
      "http://api.map.baidu.com/place/v2/search?query=%E5%A4%A7%E7%BA%A2%E9%97%A8%E5%8D%97&tag=&region=%E5%8C%97%E4%BA%AC&output=json&ak=EwBUrSUNYuHSvvU7ZGmPSNHhpR4NS4No\n",
      "http://api.map.baidu.com/place/v2/search?query=%E5%92%8C%E4%B9%89&tag=&region=%E5%8C%97%E4%BA%AC&output=json&ak=EwBUrSUNYuHSvvU7ZGmPSNHhpR4NS4No\n",
      "http://api.map.baidu.com/place/v2/search?query=%E4%B8%9C%E9%AB%98%E5%9C%B0&tag=&region=%E5%8C%97%E4%BA%AC&output=json&ak=EwBUrSUNYuHSvvU7ZGmPSNHhpR4NS4No\n",
      "http://api.map.baidu.com/place/v2/search?query=%E7%81%AB%E7%AE%AD%E4%B8%87%E6%BA%90&tag=&region=%E5%8C%97%E4%BA%AC&output=json&ak=EwBUrSUNYuHSvvU7ZGmPSNHhpR4NS4No\n",
      "http://api.map.baidu.com/place/v2/search?query=%E4%BA%94%E7%A6%8F%E5%A0%82&tag=&region=%E5%8C%97%E4%BA%AC&output=json&ak=EwBUrSUNYuHSvvU7ZGmPSNHhpR4NS4No\n",
      "http://api.map.baidu.com/place/v2/search?query=%E5%BE%B7%E8%8C%82&tag=&region=%E5%8C%97%E4%BA%AC&output=json&ak=EwBUrSUNYuHSvvU7ZGmPSNHhpR4NS4No\n",
      "http://api.map.baidu.com/place/v2/search?query=%E7%80%9B%E6%B5%B7&tag=&region=%E5%8C%97%E4%BA%AC&output=json&ak=EwBUrSUNYuHSvvU7ZGmPSNHhpR4NS4No\n",
      "http://api.map.baidu.com/place/v2/search?query=%E9%83%AD%E5%85%AC%E5%BA%84&tag=&region=%E5%8C%97%E4%BA%AC&output=json&ak=EwBUrSUNYuHSvvU7ZGmPSNHhpR4NS4No\n",
      "http://api.map.baidu.com/place/v2/search?query=%E4%B8%B0%E5%8F%B0%E7%A7%91%E6%8A%80%E5%9B%AD&tag=&region=%E5%8C%97%E4%BA%AC&output=json&ak=EwBUrSUNYuHSvvU7ZGmPSNHhpR4NS4No\n",
      "http://api.map.baidu.com/place/v2/search?query=%E7%A7%91%E6%80%A1%E8%B7%AF&tag=&region=%E5%8C%97%E4%BA%AC&output=json&ak=EwBUrSUNYuHSvvU7ZGmPSNHhpR4NS4No\n",
      "http://api.map.baidu.com/place/v2/search?query=%E4%B8%B0%E5%8F%B0%E5%8D%97%E8%B7%AF&tag=&region=%E5%8C%97%E4%BA%AC&output=json&ak=EwBUrSUNYuHSvvU7ZGmPSNHhpR4NS4No\n",
      "http://api.map.baidu.com/place/v2/search?query=%E4%B8%B0%E5%8F%B0%E4%B8%9C%E5%A4%A7%E8%A1%97&tag=&region=%E5%8C%97%E4%BA%AC&output=json&ak=EwBUrSUNYuHSvvU7ZGmPSNHhpR4NS4No\n",
      "http://api.map.baidu.com/place/v2/search?query=%E4%B8%83%E9%87%8C%E5%BA%84&tag=&region=%E5%8C%97%E4%BA%AC&output=json&ak=EwBUrSUNYuHSvvU7ZGmPSNHhpR4NS4No\n",
      "http://api.map.baidu.com/place/v2/search?query=%E5%85%AD%E9%87%8C%E6%A1%A5&tag=&region=%E5%8C%97%E4%BA%AC&output=json&ak=EwBUrSUNYuHSvvU7ZGmPSNHhpR4NS4No\n",
      "http://api.map.baidu.com/place/v2/search?query=%E5%85%AD%E9%87%8C%E6%A1%A5%E4%B8%9C&tag=&region=%E5%8C%97%E4%BA%AC&output=json&ak=EwBUrSUNYuHSvvU7ZGmPSNHhpR4NS4No\n",
      "http://api.map.baidu.com/place/v2/search?query=%E5%8C%97%E4%BA%AC%E8%A5%BF%E7%AB%99&tag=&region=%E5%8C%97%E4%BA%AC&output=json&ak=EwBUrSUNYuHSvvU7ZGmPSNHhpR4NS4No\n",
      "http://api.map.baidu.com/place/v2/search?query=%E5%86%9B%E4%BA%8B%E5%8D%9A%E7%89%A9%E9%A6%86&tag=&region=%E5%8C%97%E4%BA%AC&output=json&ak=EwBUrSUNYuHSvvU7ZGmPSNHhpR4NS4No\n",
      "http://api.map.baidu.com/place/v2/search?query=%E7%99%BD%E5%A0%86%E5%AD%90&tag=&region=%E5%8C%97%E4%BA%AC&output=json&ak=EwBUrSUNYuHSvvU7ZGmPSNHhpR4NS4No\n",
      "http://api.map.baidu.com/place/v2/search?query=%E7%99%BD%E7%9F%B3%E6%A1%A5%E5%8D%97&tag=&region=%E5%8C%97%E4%BA%AC&output=json&ak=EwBUrSUNYuHSvvU7ZGmPSNHhpR4NS4No\n",
      "http://api.map.baidu.com/place/v2/search?query=%E5%9B%BD%E5%AE%B6%E5%9B%BE%E4%B9%A6%E9%A6%86&tag=&region=%E5%8C%97%E4%BA%AC&output=json&ak=EwBUrSUNYuHSvvU7ZGmPSNHhpR4NS4No\n",
      "http://api.map.baidu.com/place/v2/search?query=%E5%B7%B4%E6%B2%9F&tag=&region=%E5%8C%97%E4%BA%AC&output=json&ak=EwBUrSUNYuHSvvU7ZGmPSNHhpR4NS4No\n",
      "http://api.map.baidu.com/place/v2/search?query=%E8%8B%8F%E5%B7%9E%E8%A1%97&tag=&region=%E5%8C%97%E4%BA%AC&output=json&ak=EwBUrSUNYuHSvvU7ZGmPSNHhpR4NS4No\n",
      "http://api.map.baidu.com/place/v2/search?query=%E6%B5%B7%E6%B7%80%E9%BB%84%E5%BA%84&tag=&region=%E5%8C%97%E4%BA%AC&output=json&ak=EwBUrSUNYuHSvvU7ZGmPSNHhpR4NS4No\n",
      "http://api.map.baidu.com/place/v2/search?query=%E7%9F%A5%E6%98%A5%E9%87%8C&tag=&region=%E5%8C%97%E4%BA%AC&output=json&ak=EwBUrSUNYuHSvvU7ZGmPSNHhpR4NS4No\n",
      "http://api.map.baidu.com/place/v2/search?query=%E7%9F%A5%E6%98%A5%E8%B7%AF&tag=&region=%E5%8C%97%E4%BA%AC&output=json&ak=EwBUrSUNYuHSvvU7ZGmPSNHhpR4NS4No\n",
      "http://api.map.baidu.com/place/v2/search?query=%E8%A5%BF%E5%9C%9F%E5%9F%8E&tag=&region=%E5%8C%97%E4%BA%AC&output=json&ak=EwBUrSUNYuHSvvU7ZGmPSNHhpR4NS4No\n",
      "http://api.map.baidu.com/place/v2/search?query=%E7%89%A1%E4%B8%B9%E5%9B%AD&tag=&region=%E5%8C%97%E4%BA%AC&output=json&ak=EwBUrSUNYuHSvvU7ZGmPSNHhpR4NS4No\n",
      "http://api.map.baidu.com/place/v2/search?query=%E5%81%A5%E5%BE%B7%E9%97%A8&tag=&region=%E5%8C%97%E4%BA%AC&output=json&ak=EwBUrSUNYuHSvvU7ZGmPSNHhpR4NS4No\n",
      "http://api.map.baidu.com/place/v2/search?query=%E5%8C%97%E5%9C%9F%E5%9F%8E&tag=&region=%E5%8C%97%E4%BA%AC&output=json&ak=EwBUrSUNYuHSvvU7ZGmPSNHhpR4NS4No\n",
      "http://api.map.baidu.com/place/v2/search?query=%E5%AE%89%E8%B4%9E%E9%97%A8&tag=&region=%E5%8C%97%E4%BA%AC&output=json&ak=EwBUrSUNYuHSvvU7ZGmPSNHhpR4NS4No\n",
      "http://api.map.baidu.com/place/v2/search?query=%E6%83%A0%E6%96%B0%E8%A5%BF%E8%A1%97%E5%8D%97%E5%8F%A3&tag=&region=%E5%8C%97%E4%BA%AC&output=json&ak=EwBUrSUNYuHSvvU7ZGmPSNHhpR4NS4No\n",
      "http://api.map.baidu.com/place/v2/search?query=%E8%8A%8D%E8%8D%AF%E5%B1%85&tag=&region=%E5%8C%97%E4%BA%AC&output=json&ak=EwBUrSUNYuHSvvU7ZGmPSNHhpR4NS4No\n",
      "http://api.map.baidu.com/place/v2/search?query=%E5%A4%AA%E9%98%B3%E5%AE%AB&tag=&region=%E5%8C%97%E4%BA%AC&output=json&ak=EwBUrSUNYuHSvvU7ZGmPSNHhpR4NS4No\n",
      "http://api.map.baidu.com/place/v2/search?query=%E4%B8%89%E5%85%83%E6%A1%A5&tag=&region=%E5%8C%97%E4%BA%AC&output=json&ak=EwBUrSUNYuHSvvU7ZGmPSNHhpR4NS4No\n",
      "http://api.map.baidu.com/place/v2/search?query=%E4%BA%AE%E9%A9%AC%E6%A1%A5&tag=&region=%E5%8C%97%E4%BA%AC&output=json&ak=EwBUrSUNYuHSvvU7ZGmPSNHhpR4NS4No\n",
      "http://api.map.baidu.com/place/v2/search?query=%E5%86%9C%E4%B8%9A%E5%B1%95%E8%A7%88%E9%A6%86&tag=&region=%E5%8C%97%E4%BA%AC&output=json&ak=EwBUrSUNYuHSvvU7ZGmPSNHhpR4NS4No\n"
     ]
    },
    {
     "name": "stdout",
     "output_type": "stream",
     "text": [
      "http://api.map.baidu.com/place/v2/search?query=%E5%9B%A2%E7%BB%93%E6%B9%96&tag=&region=%E5%8C%97%E4%BA%AC&output=json&ak=EwBUrSUNYuHSvvU7ZGmPSNHhpR4NS4No\n",
      "http://api.map.baidu.com/place/v2/search?query=%E5%91%BC%E5%AE%B6%E6%A5%BC&tag=&region=%E5%8C%97%E4%BA%AC&output=json&ak=EwBUrSUNYuHSvvU7ZGmPSNHhpR4NS4No\n",
      "http://api.map.baidu.com/place/v2/search?query=%E9%87%91%E5%8F%B0%E5%A4%95%E7%85%A7&tag=&region=%E5%8C%97%E4%BA%AC&output=json&ak=EwBUrSUNYuHSvvU7ZGmPSNHhpR4NS4No\n",
      "http://api.map.baidu.com/place/v2/search?query=%E5%9B%BD%E8%B4%B8&tag=&region=%E5%8C%97%E4%BA%AC&output=json&ak=EwBUrSUNYuHSvvU7ZGmPSNHhpR4NS4No\n",
      "http://api.map.baidu.com/place/v2/search?query=%E5%8F%8C%E4%BA%95&tag=&region=%E5%8C%97%E4%BA%AC&output=json&ak=EwBUrSUNYuHSvvU7ZGmPSNHhpR4NS4No\n",
      "http://api.map.baidu.com/place/v2/search?query=%E5%8A%B2%E6%9D%BE&tag=&region=%E5%8C%97%E4%BA%AC&output=json&ak=EwBUrSUNYuHSvvU7ZGmPSNHhpR4NS4No\n",
      "http://api.map.baidu.com/place/v2/search?query=%E6%BD%98%E5%AE%B6%E5%9B%AD&tag=&region=%E5%8C%97%E4%BA%AC&output=json&ak=EwBUrSUNYuHSvvU7ZGmPSNHhpR4NS4No\n",
      "http://api.map.baidu.com/place/v2/search?query=%E5%8D%81%E9%87%8C%E6%B2%B3&tag=&region=%E5%8C%97%E4%BA%AC&output=json&ak=EwBUrSUNYuHSvvU7ZGmPSNHhpR4NS4No\n",
      "http://api.map.baidu.com/place/v2/search?query=%E5%88%86%E9%92%9F%E5%AF%BA&tag=&region=%E5%8C%97%E4%BA%AC&output=json&ak=EwBUrSUNYuHSvvU7ZGmPSNHhpR4NS4No\n",
      "http://api.map.baidu.com/place/v2/search?query=%E6%88%90%E5%AF%BF%E5%AF%BA&tag=&region=%E5%8C%97%E4%BA%AC&output=json&ak=EwBUrSUNYuHSvvU7ZGmPSNHhpR4NS4No\n",
      "http://api.map.baidu.com/place/v2/search?query=%E5%AE%8B%E5%AE%B6%E5%BA%84&tag=&region=%E5%8C%97%E4%BA%AC&output=json&ak=EwBUrSUNYuHSvvU7ZGmPSNHhpR4NS4No\n",
      "http://api.map.baidu.com/place/v2/search?query=%E7%9F%B3%E6%A6%B4%E5%BA%84&tag=&region=%E5%8C%97%E4%BA%AC&output=json&ak=EwBUrSUNYuHSvvU7ZGmPSNHhpR4NS4No\n",
      "http://api.map.baidu.com/place/v2/search?query=%E5%A4%A7%E7%BA%A2%E9%97%A8&tag=&region=%E5%8C%97%E4%BA%AC&output=json&ak=EwBUrSUNYuHSvvU7ZGmPSNHhpR4NS4No\n",
      "http://api.map.baidu.com/place/v2/search?query=%E8%A7%92%E9%97%A8%E4%B8%9C&tag=&region=%E5%8C%97%E4%BA%AC&output=json&ak=EwBUrSUNYuHSvvU7ZGmPSNHhpR4NS4No\n",
      "http://api.map.baidu.com/place/v2/search?query=%E8%A7%92%E9%97%A8%E8%A5%BF&tag=&region=%E5%8C%97%E4%BA%AC&output=json&ak=EwBUrSUNYuHSvvU7ZGmPSNHhpR4NS4No\n",
      "http://api.map.baidu.com/place/v2/search?query=%E8%8D%89%E6%A1%A5&tag=&region=%E5%8C%97%E4%BA%AC&output=json&ak=EwBUrSUNYuHSvvU7ZGmPSNHhpR4NS4No\n",
      "http://api.map.baidu.com/place/v2/search?query=%E7%BA%AA%E5%AE%B6%E5%BA%99&tag=&region=%E5%8C%97%E4%BA%AC&output=json&ak=EwBUrSUNYuHSvvU7ZGmPSNHhpR4NS4No\n",
      "http://api.map.baidu.com/place/v2/search?query=%E9%A6%96%E7%BB%8F%E8%B4%B8&tag=&region=%E5%8C%97%E4%BA%AC&output=json&ak=EwBUrSUNYuHSvvU7ZGmPSNHhpR4NS4No\n",
      "http://api.map.baidu.com/place/v2/search?query=%E4%B8%B0%E5%8F%B0%E7%AB%99&tag=&region=%E5%8C%97%E4%BA%AC&output=json&ak=EwBUrSUNYuHSvvU7ZGmPSNHhpR4NS4No\n",
      "http://api.map.baidu.com/place/v2/search?query=%E6%B3%A5%E6%B4%BC&tag=&region=%E5%8C%97%E4%BA%AC&output=json&ak=EwBUrSUNYuHSvvU7ZGmPSNHhpR4NS4No\n",
      "http://api.map.baidu.com/place/v2/search?query=%E8%A5%BF%E5%B1%80&tag=&region=%E5%8C%97%E4%BA%AC&output=json&ak=EwBUrSUNYuHSvvU7ZGmPSNHhpR4NS4No\n",
      "http://api.map.baidu.com/place/v2/search?query=%E5%85%AD%E9%87%8C%E6%A1%A5&tag=&region=%E5%8C%97%E4%BA%AC&output=json&ak=EwBUrSUNYuHSvvU7ZGmPSNHhpR4NS4No\n",
      "http://api.map.baidu.com/place/v2/search?query=%E8%8E%B2%E8%8A%B1%E6%A1%A5&tag=&region=%E5%8C%97%E4%BA%AC&output=json&ak=EwBUrSUNYuHSvvU7ZGmPSNHhpR4NS4No\n",
      "http://api.map.baidu.com/place/v2/search?query=%E5%85%AC%E4%B8%BB%E5%9D%9F&tag=&region=%E5%8C%97%E4%BA%AC&output=json&ak=EwBUrSUNYuHSvvU7ZGmPSNHhpR4NS4No\n",
      "http://api.map.baidu.com/place/v2/search?query=%E8%A5%BF%E9%92%93%E9%B1%BC%E5%8F%B0&tag=&region=%E5%8C%97%E4%BA%AC&output=json&ak=EwBUrSUNYuHSvvU7ZGmPSNHhpR4NS4No\n",
      "http://api.map.baidu.com/place/v2/search?query=%E6%85%88%E5%AF%BF%E5%AF%BA&tag=&region=%E5%8C%97%E4%BA%AC&output=json&ak=EwBUrSUNYuHSvvU7ZGmPSNHhpR4NS4No\n",
      "http://api.map.baidu.com/place/v2/search?query=%E8%BD%A6%E9%81%93%E6%B2%9F&tag=&region=%E5%8C%97%E4%BA%AC&output=json&ak=EwBUrSUNYuHSvvU7ZGmPSNHhpR4NS4No\n",
      "http://api.map.baidu.com/place/v2/search?query=%E9%95%BF%E6%98%A5%E6%A1%A5&tag=&region=%E5%8C%97%E4%BA%AC&output=json&ak=EwBUrSUNYuHSvvU7ZGmPSNHhpR4NS4No\n",
      "http://api.map.baidu.com/place/v2/search?query=%E7%81%AB%E5%99%A8%E8%90%A5&tag=&region=%E5%8C%97%E4%BA%AC&output=json&ak=EwBUrSUNYuHSvvU7ZGmPSNHhpR4NS4No\n",
      "http://api.map.baidu.com/place/v2/search?query=%E8%A5%BF%E7%9B%B4%E9%97%A8&tag=&region=%E5%8C%97%E4%BA%AC&output=json&ak=EwBUrSUNYuHSvvU7ZGmPSNHhpR4NS4No\n",
      "http://api.map.baidu.com/place/v2/search?query=%E5%A4%A7%E9%92%9F%E5%AF%BA&tag=&region=%E5%8C%97%E4%BA%AC&output=json&ak=EwBUrSUNYuHSvvU7ZGmPSNHhpR4NS4No\n",
      "http://api.map.baidu.com/place/v2/search?query=%E7%9F%A5%E6%98%A5%E8%B7%AF&tag=&region=%E5%8C%97%E4%BA%AC&output=json&ak=EwBUrSUNYuHSvvU7ZGmPSNHhpR4NS4No\n",
      "http://api.map.baidu.com/place/v2/search?query=%E4%BA%94%E9%81%93%E5%8F%A3&tag=&region=%E5%8C%97%E4%BA%AC&output=json&ak=EwBUrSUNYuHSvvU7ZGmPSNHhpR4NS4No\n",
      "http://api.map.baidu.com/place/v2/search?query=%E4%B8%8A%E5%9C%B0&tag=&region=%E5%8C%97%E4%BA%AC&output=json&ak=EwBUrSUNYuHSvvU7ZGmPSNHhpR4NS4No\n",
      "http://api.map.baidu.com/place/v2/search?query=%E6%B8%85%E6%B2%B3&tag=&region=%E5%8C%97%E4%BA%AC&output=json&ak=EwBUrSUNYuHSvvU7ZGmPSNHhpR4NS4No\n",
      "http://api.map.baidu.com/place/v2/search?query=%E8%A5%BF%E4%BA%8C%E6%97%97&tag=&region=%E5%8C%97%E4%BA%AC&output=json&ak=EwBUrSUNYuHSvvU7ZGmPSNHhpR4NS4No\n",
      "http://api.map.baidu.com/place/v2/search?query=%E9%BE%99%E6%B3%BD&tag=&region=%E5%8C%97%E4%BA%AC&output=json&ak=EwBUrSUNYuHSvvU7ZGmPSNHhpR4NS4No\n",
      "http://api.map.baidu.com/place/v2/search?query=%E5%9B%9E%E9%BE%99%E8%A7%82&tag=&region=%E5%8C%97%E4%BA%AC&output=json&ak=EwBUrSUNYuHSvvU7ZGmPSNHhpR4NS4No\n",
      "http://api.map.baidu.com/place/v2/search?query=%E9%9C%8D%E8%90%A5&tag=&region=%E5%8C%97%E4%BA%AC&output=json&ak=EwBUrSUNYuHSvvU7ZGmPSNHhpR4NS4No\n",
      "http://api.map.baidu.com/place/v2/search?query=%E7%AB%8B%E6%B0%B4%E6%A1%A5&tag=&region=%E5%8C%97%E4%BA%AC&output=json&ak=EwBUrSUNYuHSvvU7ZGmPSNHhpR4NS4No\n",
      "http://api.map.baidu.com/place/v2/search?query=%E5%8C%97%E8%8B%91&tag=&region=%E5%8C%97%E4%BA%AC&output=json&ak=EwBUrSUNYuHSvvU7ZGmPSNHhpR4NS4No\n",
      "http://api.map.baidu.com/place/v2/search?query=%E6%9C%9B%E4%BA%AC%E8%A5%BF&tag=&region=%E5%8C%97%E4%BA%AC&output=json&ak=EwBUrSUNYuHSvvU7ZGmPSNHhpR4NS4No\n",
      "http://api.map.baidu.com/place/v2/search?query=%E8%8A%8D%E8%8D%AF%E5%B1%85&tag=&region=%E5%8C%97%E4%BA%AC&output=json&ak=EwBUrSUNYuHSvvU7ZGmPSNHhpR4NS4No\n",
      "http://api.map.baidu.com/place/v2/search?query=%E5%85%89%E7%86%99%E9%97%A8&tag=&region=%E5%8C%97%E4%BA%AC&output=json&ak=EwBUrSUNYuHSvvU7ZGmPSNHhpR4NS4No\n",
      "http://api.map.baidu.com/place/v2/search?query=%E6%9F%B3%E8%8A%B3&tag=&region=%E5%8C%97%E4%BA%AC&output=json&ak=EwBUrSUNYuHSvvU7ZGmPSNHhpR4NS4No\n",
      "http://api.map.baidu.com/place/v2/search?query=%E4%B8%9C%E7%9B%B4%E9%97%A8&tag=&region=%E5%8C%97%E4%BA%AC&output=json&ak=EwBUrSUNYuHSvvU7ZGmPSNHhpR4NS4No\n",
      "http://api.map.baidu.com/place/v2/search?query=%E5%BC%A0%E9%83%AD%E5%BA%84&tag=&region=%E5%8C%97%E4%BA%AC&output=json&ak=EwBUrSUNYuHSvvU7ZGmPSNHhpR4NS4No\n",
      "http://api.map.baidu.com/place/v2/search?query=%E5%9B%AD%E5%8D%9A%E5%9B%AD&tag=&region=%E5%8C%97%E4%BA%AC&output=json&ak=EwBUrSUNYuHSvvU7ZGmPSNHhpR4NS4No\n",
      "http://api.map.baidu.com/place/v2/search?query=%E5%A4%A7%E7%93%A6%E7%AA%91&tag=&region=%E5%8C%97%E4%BA%AC&output=json&ak=EwBUrSUNYuHSvvU7ZGmPSNHhpR4NS4No\n",
      "http://api.map.baidu.com/place/v2/search?query=%E9%83%AD%E5%BA%84%E5%AD%90&tag=&region=%E5%8C%97%E4%BA%AC&output=json&ak=EwBUrSUNYuHSvvU7ZGmPSNHhpR4NS4No\n",
      "http://api.map.baidu.com/place/v2/search?query=%E5%A4%A7%E4%BA%95&tag=&region=%E5%8C%97%E4%BA%AC&output=json&ak=EwBUrSUNYuHSvvU7ZGmPSNHhpR4NS4No\n",
      "http://api.map.baidu.com/place/v2/search?query=%E4%B8%83%E9%87%8C%E5%BA%84&tag=&region=%E5%8C%97%E4%BA%AC&output=json&ak=EwBUrSUNYuHSvvU7ZGmPSNHhpR4NS4No\n",
      "http://api.map.baidu.com/place/v2/search?query=%E8%A5%BF%E5%B1%80&tag=&region=%E5%8C%97%E4%BA%AC&output=json&ak=EwBUrSUNYuHSvvU7ZGmPSNHhpR4NS4No\n",
      "http://api.map.baidu.com/place/v2/search?query=%E5%96%84%E5%90%84%E5%BA%84&tag=&region=%E5%8C%97%E4%BA%AC&output=json&ak=EwBUrSUNYuHSvvU7ZGmPSNHhpR4NS4No\n"
     ]
    },
    {
     "name": "stdout",
     "output_type": "stream",
     "text": [
      "http://api.map.baidu.com/place/v2/search?query=%E9%99%B6%E7%84%B6%E6%A1%A5&tag=&region=%E5%8C%97%E4%BA%AC&output=json&ak=EwBUrSUNYuHSvvU7ZGmPSNHhpR4NS4No\n",
      "http://api.map.baidu.com/place/v2/search?query=%E6%B0%B8%E5%AE%9A%E9%97%A8%E5%A4%96&tag=&region=%E5%8C%97%E4%BA%AC&output=json&ak=EwBUrSUNYuHSvvU7ZGmPSNHhpR4NS4No\n",
      "http://api.map.baidu.com/place/v2/search?query=%E6%99%AF%E6%B3%B0&tag=&region=%E5%8C%97%E4%BA%AC&output=json&ak=EwBUrSUNYuHSvvU7ZGmPSNHhpR4NS4No\n",
      "http://api.map.baidu.com/place/v2/search?query=%E6%96%B9%E5%BA%84&tag=&region=%E5%8C%97%E4%BA%AC&output=json&ak=EwBUrSUNYuHSvvU7ZGmPSNHhpR4NS4No\n",
      "http://api.map.baidu.com/place/v2/search?query=%E5%8C%97%E5%B7%A5%E5%A4%A7%E8%A5%BF%E9%97%A8&tag=&region=%E5%8C%97%E4%BA%AC&output=json&ak=EwBUrSUNYuHSvvU7ZGmPSNHhpR4NS4No\n",
      "http://api.map.baidu.com/place/v2/search?query=%E5%B9%B3%E4%B9%90%E5%9B%AD&tag=&region=%E5%8C%97%E4%BA%AC&output=json&ak=EwBUrSUNYuHSvvU7ZGmPSNHhpR4NS4No\n",
      "http://api.map.baidu.com/place/v2/search?query=%E5%8C%97%E4%BA%AC%E5%8D%97%E7%AB%99&tag=&region=%E5%8C%97%E4%BA%AC&output=json&ak=EwBUrSUNYuHSvvU7ZGmPSNHhpR4NS4No\n",
      "http://api.map.baidu.com/place/v2/search?query=%E8%92%B2%E9%BB%84%E6%A6%86&tag=&region=%E5%8C%97%E4%BA%AC&output=json&ak=EwBUrSUNYuHSvvU7ZGmPSNHhpR4NS4No\n",
      "http://api.map.baidu.com/place/v2/search?query=%E5%8D%81%E9%87%8C%E6%B2%B3&tag=&region=%E5%8C%97%E4%BA%AC&output=json&ak=EwBUrSUNYuHSvvU7ZGmPSNHhpR4NS4No\n",
      "http://api.map.baidu.com/place/v2/search?query=%E4%B9%9D%E9%BE%99%E5%B1%B1&tag=&region=%E5%8C%97%E4%BA%AC&output=json&ak=EwBUrSUNYuHSvvU7ZGmPSNHhpR4NS4No\n",
      "http://api.map.baidu.com/place/v2/search?query=%E5%A4%A7%E6%9C%9B%E8%B7%AF&tag=&region=%E5%8C%97%E4%BA%AC&output=json&ak=EwBUrSUNYuHSvvU7ZGmPSNHhpR4NS4No\n",
      "http://api.map.baidu.com/place/v2/search?query=%E6%9C%9D%E9%98%B3%E5%85%AC%E5%9B%AD&tag=&region=%E5%8C%97%E4%BA%AC&output=json&ak=EwBUrSUNYuHSvvU7ZGmPSNHhpR4NS4No\n",
      "http://api.map.baidu.com/place/v2/search?query=%E6%9E%A3%E8%90%A5&tag=&region=%E5%8C%97%E4%BA%AC&output=json&ak=EwBUrSUNYuHSvvU7ZGmPSNHhpR4NS4No\n",
      "http://api.map.baidu.com/place/v2/search?query=%E4%B8%9C%E9%A3%8E%E5%8C%97%E6%A1%A5&tag=&region=%E5%8C%97%E4%BA%AC&output=json&ak=EwBUrSUNYuHSvvU7ZGmPSNHhpR4NS4No\n",
      "http://api.map.baidu.com/place/v2/search?query=%E9%AB%98%E5%AE%B6%E5%9B%AD&tag=&region=%E5%8C%97%E4%BA%AC&output=json&ak=EwBUrSUNYuHSvvU7ZGmPSNHhpR4NS4No\n",
      "http://api.map.baidu.com/place/v2/search?query=%E9%98%9C%E9%80%9A&tag=&region=%E5%8C%97%E4%BA%AC&output=json&ak=EwBUrSUNYuHSvvU7ZGmPSNHhpR4NS4No\n",
      "http://api.map.baidu.com/place/v2/search?query=%E6%9C%9B%E4%BA%AC&tag=&region=%E5%8C%97%E4%BA%AC&output=json&ak=EwBUrSUNYuHSvvU7ZGmPSNHhpR4NS4No\n",
      "http://api.map.baidu.com/place/v2/search?query=%E9%87%91%E5%8F%B0%E8%B7%AF&tag=&region=%E5%8C%97%E4%BA%AC&output=json&ak=EwBUrSUNYuHSvvU7ZGmPSNHhpR4NS4No\n",
      "http://api.map.baidu.com/place/v2/search?query=%E5%B0%86%E5%8F%B0&tag=&region=%E5%8C%97%E4%BA%AC&output=json&ak=EwBUrSUNYuHSvvU7ZGmPSNHhpR4NS4No\n",
      "http://api.map.baidu.com/place/v2/search?query=%E6%9C%9B%E4%BA%AC%E5%8D%97&tag=&region=%E5%8C%97%E4%BA%AC&output=json&ak=EwBUrSUNYuHSvvU7ZGmPSNHhpR4NS4No\n",
      "http://api.map.baidu.com/place/v2/search?query=%E4%B8%9C%E6%B9%96%E6%B8%A0&tag=&region=%E5%8C%97%E4%BA%AC&output=json&ak=EwBUrSUNYuHSvvU7ZGmPSNHhpR4NS4No\n",
      "http://api.map.baidu.com/place/v2/search?query=%E6%9D%A5%E5%B9%BF%E8%90%A5&tag=&region=%E5%8C%97%E4%BA%AC&output=json&ak=EwBUrSUNYuHSvvU7ZGmPSNHhpR4NS4No\n",
      "http://api.map.baidu.com/place/v2/search?query=%E4%BF%B8%E4%BC%AF&tag=&region=%E5%8C%97%E4%BA%AC&output=json&ak=EwBUrSUNYuHSvvU7ZGmPSNHhpR4NS4No\n",
      "http://api.map.baidu.com/place/v2/search?query=%E9%A1%BA%E4%B9%89&tag=&region=%E5%8C%97%E4%BA%AC&output=json&ak=EwBUrSUNYuHSvvU7ZGmPSNHhpR4NS4No\n",
      "http://api.map.baidu.com/place/v2/search?query=%E7%9F%B3%E9%97%A8&tag=&region=%E5%8C%97%E4%BA%AC&output=json&ak=EwBUrSUNYuHSvvU7ZGmPSNHhpR4NS4No\n",
      "http://api.map.baidu.com/place/v2/search?query=%E5%8D%97%E6%B3%95%E4%BF%A1&tag=&region=%E5%8C%97%E4%BA%AC&output=json&ak=EwBUrSUNYuHSvvU7ZGmPSNHhpR4NS4No\n",
      "http://api.map.baidu.com/place/v2/search?query=%E5%90%8E%E6%B2%99%E5%B3%AA&tag=&region=%E5%8C%97%E4%BA%AC&output=json&ak=EwBUrSUNYuHSvvU7ZGmPSNHhpR4NS4No\n",
      "http://api.map.baidu.com/place/v2/search?query=%E8%8A%B1%E6%A2%A8%E5%9D%8E&tag=&region=%E5%8C%97%E4%BA%AC&output=json&ak=EwBUrSUNYuHSvvU7ZGmPSNHhpR4NS4No\n",
      "http://api.map.baidu.com/place/v2/search?query=%E5%9B%BD%E5%B1%95&tag=&region=%E5%8C%97%E4%BA%AC&output=json&ak=EwBUrSUNYuHSvvU7ZGmPSNHhpR4NS4No\n",
      "http://api.map.baidu.com/place/v2/search?query=%E5%AD%99%E6%B2%B3&tag=&region=%E5%8C%97%E4%BA%AC&output=json&ak=EwBUrSUNYuHSvvU7ZGmPSNHhpR4NS4No\n",
      "http://api.map.baidu.com/place/v2/search?query=%E9%A9%AC%E6%B3%89%E8%90%A5&tag=&region=%E5%8C%97%E4%BA%AC&output=json&ak=EwBUrSUNYuHSvvU7ZGmPSNHhpR4NS4No\n",
      "http://api.map.baidu.com/place/v2/search?query=%E5%B4%94%E5%90%84%E5%BA%84&tag=&region=%E5%8C%97%E4%BA%AC&output=json&ak=EwBUrSUNYuHSvvU7ZGmPSNHhpR4NS4No\n",
      "http://api.map.baidu.com/place/v2/search?query=%E6%9C%9B%E4%BA%AC%E4%B8%9C&tag=&region=%E5%8C%97%E4%BA%AC&output=json&ak=EwBUrSUNYuHSvvU7ZGmPSNHhpR4NS4No\n",
      "http://api.map.baidu.com/place/v2/search?query=%E6%9C%9B%E4%BA%AC&tag=&region=%E5%8C%97%E4%BA%AC&output=json&ak=EwBUrSUNYuHSvvU7ZGmPSNHhpR4NS4No\n",
      "http://api.map.baidu.com/place/v2/search?query=%E6%9C%9B%E4%BA%AC%E8%A5%BF&tag=&region=%E5%8C%97%E4%BA%AC&output=json&ak=EwBUrSUNYuHSvvU7ZGmPSNHhpR4NS4No\n",
      "http://api.map.baidu.com/place/v2/search?query=%E5%85%B3%E5%BA%84&tag=&region=%E5%8C%97%E4%BA%AC&output=json&ak=EwBUrSUNYuHSvvU7ZGmPSNHhpR4NS4No\n",
      "http://api.map.baidu.com/place/v2/search?query=%E5%A4%A7%E5%B1%AF%E8%B7%AF%E4%B8%9C&tag=&region=%E5%8C%97%E4%BA%AC&output=json&ak=EwBUrSUNYuHSvvU7ZGmPSNHhpR4NS4No\n",
      "http://api.map.baidu.com/place/v2/search?query=%E5%AE%89%E7%AB%8B%E8%B7%AF&tag=&region=%E5%8C%97%E4%BA%AC&output=json&ak=EwBUrSUNYuHSvvU7ZGmPSNHhpR4NS4No\n",
      "http://api.map.baidu.com/place/v2/search?query=%E5%A5%A5%E6%9E%97%E5%8C%B9%E5%85%8B%E5%85%AC%E5%9B%AD&tag=&region=%E5%8C%97%E4%BA%AC&output=json&ak=EwBUrSUNYuHSvvU7ZGmPSNHhpR4NS4No\n",
      "http://api.map.baidu.com/place/v2/search?query=%E5%8C%97%E6%B2%99%E6%BB%A9&tag=&region=%E5%8C%97%E4%BA%AC&output=json&ak=EwBUrSUNYuHSvvU7ZGmPSNHhpR4NS4No\n",
      "http://api.map.baidu.com/place/v2/search?query=%E5%85%AD%E9%81%93%E5%8F%A3&tag=&region=%E5%8C%97%E4%BA%AC&output=json&ak=EwBUrSUNYuHSvvU7ZGmPSNHhpR4NS4No\n",
      "http://api.map.baidu.com/place/v2/search?query=%E6%B8%85%E5%8D%8E%E4%B8%9C%E8%B7%AF%E8%A5%BF%E5%8F%A3&tag=&region=%E5%8C%97%E4%BA%AC&output=json&ak=EwBUrSUNYuHSvvU7ZGmPSNHhpR4NS4No\n",
      "http://api.map.baidu.com/place/v2/search?query=%E8%A5%BF%E8%8B%91&tag=&region=%E5%8C%97%E4%BA%AC&output=json&ak=EwBUrSUNYuHSvvU7ZGmPSNHhpR4NS4No\n",
      "http://api.map.baidu.com/place/v2/search?query=%E5%86%9C%E5%A4%A7%E5%8D%97%E8%B7%AF&tag=&region=%E5%8C%97%E4%BA%AC&output=json&ak=EwBUrSUNYuHSvvU7ZGmPSNHhpR4NS4No\n",
      "http://api.map.baidu.com/place/v2/search?query=%E9%A9%AC%E8%BF%9E%E6%B4%BC&tag=&region=%E5%8C%97%E4%BA%AC&output=json&ak=EwBUrSUNYuHSvvU7ZGmPSNHhpR4NS4No\n",
      "http://api.map.baidu.com/place/v2/search?query=%E8%A5%BF%E5%8C%97%E6%97%BA&tag=&region=%E5%8C%97%E4%BA%AC&output=json&ak=EwBUrSUNYuHSvvU7ZGmPSNHhpR4NS4No\n",
      "http://api.map.baidu.com/place/v2/search?query=%E6%B0%B8%E4%B8%B0%E5%8D%97&tag=&region=%E5%8C%97%E4%BA%AC&output=json&ak=EwBUrSUNYuHSvvU7ZGmPSNHhpR4NS4No\n",
      "http://api.map.baidu.com/place/v2/search?query=%E6%B0%B8%E4%B8%B0&tag=&region=%E5%8C%97%E4%BA%AC&output=json&ak=EwBUrSUNYuHSvvU7ZGmPSNHhpR4NS4No\n",
      "http://api.map.baidu.com/place/v2/search?query=%E5%B1%AF%E4%BD%83&tag=&region=%E5%8C%97%E4%BA%AC&output=json&ak=EwBUrSUNYuHSvvU7ZGmPSNHhpR4NS4No\n",
      "http://api.map.baidu.com/place/v2/search?query=%E7%A8%BB%E9%A6%99%E6%B9%96%E8%B7%AF&tag=&region=%E5%8C%97%E4%BA%AC&output=json&ak=EwBUrSUNYuHSvvU7ZGmPSNHhpR4NS4No\n",
      "http://api.map.baidu.com/place/v2/search?query=%E6%B8%A9%E9%98%B3%E8%B7%AF&tag=&region=%E5%8C%97%E4%BA%AC&output=json&ak=EwBUrSUNYuHSvvU7ZGmPSNHhpR4NS4No\n",
      "http://api.map.baidu.com/place/v2/search?query=%E5%8C%97%E5%AE%89%E6%B2%B3&tag=&region=%E5%8C%97%E4%BA%AC&output=json&ak=EwBUrSUNYuHSvvU7ZGmPSNHhpR4NS4No\n",
      "http://api.map.baidu.com/place/v2/search?query=%E5%9B%9B%E6%83%A0&tag=&region=%E5%8C%97%E4%BA%AC&output=json&ak=EwBUrSUNYuHSvvU7ZGmPSNHhpR4NS4No\n",
      "http://api.map.baidu.com/place/v2/search?query=%E5%9B%9B%E6%83%A0%E4%B8%9C&tag=&region=%E5%8C%97%E4%BA%AC&output=json&ak=EwBUrSUNYuHSvvU7ZGmPSNHhpR4NS4No\n"
     ]
    },
    {
     "name": "stdout",
     "output_type": "stream",
     "text": [
      "http://api.map.baidu.com/place/v2/search?query=%E9%AB%98%E7%A2%91%E5%BA%97&tag=&region=%E5%8C%97%E4%BA%AC&output=json&ak=EwBUrSUNYuHSvvU7ZGmPSNHhpR4NS4No\n",
      "http://api.map.baidu.com/place/v2/search?query=%E4%BC%A0%E5%AA%92%E5%A4%A7%E5%AD%A6&tag=&region=%E5%8C%97%E4%BA%AC&output=json&ak=EwBUrSUNYuHSvvU7ZGmPSNHhpR4NS4No\n",
      "http://api.map.baidu.com/place/v2/search?query=%E5%8F%8C%E6%A1%A5&tag=&region=%E5%8C%97%E4%BA%AC&output=json&ak=EwBUrSUNYuHSvvU7ZGmPSNHhpR4NS4No\n",
      "http://api.map.baidu.com/place/v2/search?query=%E7%AE%A1%E5%BA%84&tag=&region=%E5%8C%97%E4%BA%AC&output=json&ak=EwBUrSUNYuHSvvU7ZGmPSNHhpR4NS4No\n",
      "http://api.map.baidu.com/place/v2/search?query=%E5%85%AB%E9%87%8C%E6%A1%A5&tag=&region=%E5%8C%97%E4%BA%AC&output=json&ak=EwBUrSUNYuHSvvU7ZGmPSNHhpR4NS4No\n",
      "http://api.map.baidu.com/place/v2/search?query=%E9%80%9A%E5%B7%9E%E5%8C%97%E8%8B%91&tag=&region=%E5%8C%97%E4%BA%AC&output=json&ak=EwBUrSUNYuHSvvU7ZGmPSNHhpR4NS4No\n",
      "http://api.map.baidu.com/place/v2/search?query=%E6%9E%9C%E5%9B%AD&tag=&region=%E5%8C%97%E4%BA%AC&output=json&ak=EwBUrSUNYuHSvvU7ZGmPSNHhpR4NS4No\n",
      "http://api.map.baidu.com/place/v2/search?query=%E4%B9%9D%E6%A3%B5%E6%A0%91&tag=&region=%E5%8C%97%E4%BA%AC&output=json&ak=EwBUrSUNYuHSvvU7ZGmPSNHhpR4NS4No\n",
      "http://api.map.baidu.com/place/v2/search?query=%E6%A2%A8%E5%9B%AD&tag=&region=%E5%8C%97%E4%BA%AC&output=json&ak=EwBUrSUNYuHSvvU7ZGmPSNHhpR4NS4No\n",
      "http://api.map.baidu.com/place/v2/search?query=%E4%B8%B4%E6%B2%B3%E9%87%8C&tag=&region=%E5%8C%97%E4%BA%AC&output=json&ak=EwBUrSUNYuHSvvU7ZGmPSNHhpR4NS4No\n",
      "http://api.map.baidu.com/place/v2/search?query=%E5%9C%9F%E6%A1%A5&tag=&region=%E5%8C%97%E4%BA%AC&output=json&ak=EwBUrSUNYuHSvvU7ZGmPSNHhpR4NS4No\n",
      "http://api.map.baidu.com/place/v2/search?query=%E8%8A%B1%E5%BA%84&tag=&region=%E5%8C%97%E4%BA%AC&output=json&ak=EwBUrSUNYuHSvvU7ZGmPSNHhpR4NS4No\n",
      "http://api.map.baidu.com/place/v2/search?query=%E6%98%8C%E5%B9%B3%E8%A5%BF%E5%B1%B1%E5%8F%A3&tag=&region=%E5%8C%97%E4%BA%AC&output=json&ak=EwBUrSUNYuHSvvU7ZGmPSNHhpR4NS4No\n",
      "http://api.map.baidu.com/place/v2/search?query=%E5%8D%81%E4%B8%89%E9%99%B5%E6%99%AF%E5%8C%BA&tag=&region=%E5%8C%97%E4%BA%AC&output=json&ak=EwBUrSUNYuHSvvU7ZGmPSNHhpR4NS4No\n",
      "http://api.map.baidu.com/place/v2/search?query=%E6%98%8C%E5%B9%B3&tag=&region=%E5%8C%97%E4%BA%AC&output=json&ak=EwBUrSUNYuHSvvU7ZGmPSNHhpR4NS4No\n",
      "http://api.map.baidu.com/place/v2/search?query=%E6%98%8C%E5%B9%B3%E4%B8%9C%E5%85%B3&tag=&region=%E5%8C%97%E4%BA%AC&output=json&ak=EwBUrSUNYuHSvvU7ZGmPSNHhpR4NS4No\n",
      "http://api.map.baidu.com/place/v2/search?query=%E5%8C%97%E9%82%B5%E6%B4%BC&tag=&region=%E5%8C%97%E4%BA%AC&output=json&ak=EwBUrSUNYuHSvvU7ZGmPSNHhpR4NS4No\n",
      "http://api.map.baidu.com/place/v2/search?query=%E5%8D%97%E9%82%B5&tag=&region=%E5%8C%97%E4%BA%AC&output=json&ak=EwBUrSUNYuHSvvU7ZGmPSNHhpR4NS4No\n",
      "http://api.map.baidu.com/place/v2/search?query=%E6%B2%99%E6%B2%B3%E9%AB%98%E6%95%99%E5%9B%AD&tag=&region=%E5%8C%97%E4%BA%AC&output=json&ak=EwBUrSUNYuHSvvU7ZGmPSNHhpR4NS4No\n",
      "http://api.map.baidu.com/place/v2/search?query=%E6%B2%99%E6%B2%B3&tag=&region=%E5%8C%97%E4%BA%AC&output=json&ak=EwBUrSUNYuHSvvU7ZGmPSNHhpR4NS4No\n",
      "http://api.map.baidu.com/place/v2/search?query=%E5%B7%A9%E5%8D%8E%E5%9F%8E&tag=&region=%E5%8C%97%E4%BA%AC&output=json&ak=EwBUrSUNYuHSvvU7ZGmPSNHhpR4NS4No\n",
      "http://api.map.baidu.com/place/v2/search?query=%E6%9C%B1%E8%BE%9B%E5%BA%84&tag=&region=%E5%8C%97%E4%BA%AC&output=json&ak=EwBUrSUNYuHSvvU7ZGmPSNHhpR4NS4No\n",
      "http://api.map.baidu.com/place/v2/search?query=%E7%94%9F%E5%91%BD%E7%A7%91%E5%AD%A6%E5%9B%AD&tag=&region=%E5%8C%97%E4%BA%AC&output=json&ak=EwBUrSUNYuHSvvU7ZGmPSNHhpR4NS4No\n",
      "http://api.map.baidu.com/place/v2/search?query=%E8%A5%BF%E4%BA%8C%E6%97%97&tag=&region=%E5%8C%97%E4%BA%AC&output=json&ak=EwBUrSUNYuHSvvU7ZGmPSNHhpR4NS4No\n",
      "http://api.map.baidu.com/place/v2/search?query=%E5%AE%8B%E5%AE%B6%E5%BA%84&tag=&region=%E5%8C%97%E4%BA%AC&output=json&ak=EwBUrSUNYuHSvvU7ZGmPSNHhpR4NS4No\n",
      "http://api.map.baidu.com/place/v2/search?query=%E8%82%96%E6%9D%91&tag=&region=%E5%8C%97%E4%BA%AC&output=json&ak=EwBUrSUNYuHSvvU7ZGmPSNHhpR4NS4No\n",
      "http://api.map.baidu.com/place/v2/search?query=%E5%B0%8F%E7%BA%A2%E9%97%A8&tag=&region=%E5%8C%97%E4%BA%AC&output=json&ak=EwBUrSUNYuHSvvU7ZGmPSNHhpR4NS4No\n",
      "http://api.map.baidu.com/place/v2/search?query=%E6%97%A7%E5%AE%AB&tag=&region=%E5%8C%97%E4%BA%AC&output=json&ak=EwBUrSUNYuHSvvU7ZGmPSNHhpR4NS4No\n",
      "http://api.map.baidu.com/place/v2/search?query=%E4%BA%A6%E5%BA%84%E6%A1%A5&tag=&region=%E5%8C%97%E4%BA%AC&output=json&ak=EwBUrSUNYuHSvvU7ZGmPSNHhpR4NS4No\n",
      "http://api.map.baidu.com/place/v2/search?query=%E4%BA%A6%E5%BA%84%E6%96%87%E5%8C%96%E5%9B%AD&tag=&region=%E5%8C%97%E4%BA%AC&output=json&ak=EwBUrSUNYuHSvvU7ZGmPSNHhpR4NS4No\n",
      "http://api.map.baidu.com/place/v2/search?query=%E4%B8%87%E6%BA%90%E8%A1%97&tag=&region=%E5%8C%97%E4%BA%AC&output=json&ak=EwBUrSUNYuHSvvU7ZGmPSNHhpR4NS4No\n",
      "http://api.map.baidu.com/place/v2/search?query=%E8%8D%A3%E4%BA%AC%E4%B8%9C%E8%A1%97&tag=&region=%E5%8C%97%E4%BA%AC&output=json&ak=EwBUrSUNYuHSvvU7ZGmPSNHhpR4NS4No\n",
      "http://api.map.baidu.com/place/v2/search?query=%E8%8D%A3%E6%98%8C%E4%B8%9C%E8%A1%97&tag=&region=%E5%8C%97%E4%BA%AC&output=json&ak=EwBUrSUNYuHSvvU7ZGmPSNHhpR4NS4No\n",
      "http://api.map.baidu.com/place/v2/search?query=%E5%90%8C%E6%B5%8E%E5%8D%97%E8%B7%AF&tag=&region=%E5%8C%97%E4%BA%AC&output=json&ak=EwBUrSUNYuHSvvU7ZGmPSNHhpR4NS4No\n",
      "http://api.map.baidu.com/place/v2/search?query=%E7%BB%8F%E6%B5%B7%E8%B7%AF&tag=&region=%E5%8C%97%E4%BA%AC&output=json&ak=EwBUrSUNYuHSvvU7ZGmPSNHhpR4NS4No\n",
      "http://api.map.baidu.com/place/v2/search?query=%E6%AC%A1%E6%B8%A0%E5%8D%97&tag=&region=%E5%8C%97%E4%BA%AC&output=json&ak=EwBUrSUNYuHSvvU7ZGmPSNHhpR4NS4No\n",
      "http://api.map.baidu.com/place/v2/search?query=%E6%AC%A1%E6%B8%A0&tag=&region=%E5%8C%97%E4%BA%AC&output=json&ak=EwBUrSUNYuHSvvU7ZGmPSNHhpR4NS4No\n",
      "http://api.map.baidu.com/place/v2/search?query=%E4%BA%A6%E5%BA%84%E7%81%AB%E8%BD%A6%E7%AB%99&tag=&region=%E5%8C%97%E4%BA%AC&output=json&ak=EwBUrSUNYuHSvvU7ZGmPSNHhpR4NS4No\n",
      "http://api.map.baidu.com/place/v2/search?query=%E9%83%AD%E5%85%AC%E5%BA%84&tag=&region=%E5%8C%97%E4%BA%AC&output=json&ak=EwBUrSUNYuHSvvU7ZGmPSNHhpR4NS4No\n",
      "http://api.map.baidu.com/place/v2/search?query=%E5%A4%A7%E8%91%86%E5%8F%B0&tag=&region=%E5%8C%97%E4%BA%AC&output=json&ak=EwBUrSUNYuHSvvU7ZGmPSNHhpR4NS4No\n",
      "http://api.map.baidu.com/place/v2/search?query=%E7%A8%BB%E7%94%B0&tag=&region=%E5%8C%97%E4%BA%AC&output=json&ak=EwBUrSUNYuHSvvU7ZGmPSNHhpR4NS4No\n",
      "http://api.map.baidu.com/place/v2/search?query=%E9%95%BF%E9%98%B3&tag=&region=%E5%8C%97%E4%BA%AC&output=json&ak=EwBUrSUNYuHSvvU7ZGmPSNHhpR4NS4No\n",
      "http://api.map.baidu.com/place/v2/search?query=%E7%AF%B1%E7%AC%86%E6%88%BF&tag=&region=%E5%8C%97%E4%BA%AC&output=json&ak=EwBUrSUNYuHSvvU7ZGmPSNHhpR4NS4No\n",
      "http://api.map.baidu.com/place/v2/search?query=%E5%B9%BF%E9%98%B3%E5%9F%8E&tag=&region=%E5%8C%97%E4%BA%AC&output=json&ak=EwBUrSUNYuHSvvU7ZGmPSNHhpR4NS4No\n",
      "http://api.map.baidu.com/place/v2/search?query=%E8%89%AF%E4%B9%A1%E5%A4%A7%E5%AD%A6%E5%9F%8E%E5%8C%97&tag=&region=%E5%8C%97%E4%BA%AC&output=json&ak=EwBUrSUNYuHSvvU7ZGmPSNHhpR4NS4No\n",
      "http://api.map.baidu.com/place/v2/search?query=%E8%89%AF%E4%B9%A1%E5%A4%A7%E5%AD%A6%E5%9F%8E&tag=&region=%E5%8C%97%E4%BA%AC&output=json&ak=EwBUrSUNYuHSvvU7ZGmPSNHhpR4NS4No\n",
      "http://api.map.baidu.com/place/v2/search?query=%E8%89%AF%E4%B9%A1%E5%A4%A7%E5%AD%A6%E5%9F%8E%E8%A5%BF&tag=&region=%E5%8C%97%E4%BA%AC&output=json&ak=EwBUrSUNYuHSvvU7ZGmPSNHhpR4NS4No\n",
      "http://api.map.baidu.com/place/v2/search?query=%E8%89%AF%E4%B9%A1%E5%8D%97%E5%85%B3&tag=&region=%E5%8C%97%E4%BA%AC&output=json&ak=EwBUrSUNYuHSvvU7ZGmPSNHhpR4NS4No\n",
      "http://api.map.baidu.com/place/v2/search?query=%E8%8B%8F%E5%BA%84&tag=&region=%E5%8C%97%E4%BA%AC&output=json&ak=EwBUrSUNYuHSvvU7ZGmPSNHhpR4NS4No\n",
      "http://api.map.baidu.com/place/v2/search?query=%E4%B8%9C%E7%9B%B4%E9%97%A8&tag=&region=%E5%8C%97%E4%BA%AC&output=json&ak=EwBUrSUNYuHSvvU7ZGmPSNHhpR4NS4No\n",
      "http://api.map.baidu.com/place/v2/search?query=%E4%B8%89%E5%85%83%E6%A1%A5&tag=&region=%E5%8C%97%E4%BA%AC&output=json&ak=EwBUrSUNYuHSvvU7ZGmPSNHhpR4NS4No\n",
      "http://api.map.baidu.com/place/v2/search?query=3%E5%8F%B7%E8%88%AA%E7%AB%99%E6%A5%BC&tag=&region=%E5%8C%97%E4%BA%AC&output=json&ak=EwBUrSUNYuHSvvU7ZGmPSNHhpR4NS4No\n",
      "http://api.map.baidu.com/place/v2/search?query=2%E5%8F%B7%E8%88%AA%E7%AB%99%E6%A5%BC&tag=&region=%E5%8C%97%E4%BA%AC&output=json&ak=EwBUrSUNYuHSvvU7ZGmPSNHhpR4NS4No\n"
     ]
    },
    {
     "name": "stdout",
     "output_type": "stream",
     "text": [
      "http://api.map.baidu.com/place/v2/search?query=%E5%85%AC%E7%9B%8A%E8%A5%BF%E6%A1%A5&tag=&region=%E5%8C%97%E4%BA%AC&output=json&ak=EwBUrSUNYuHSvvU7ZGmPSNHhpR4NS4No\n",
      "http://api.map.baidu.com/place/v2/search?query=%E6%96%B0%E5%AE%AB&tag=&region=%E5%8C%97%E4%BA%AC&output=json&ak=EwBUrSUNYuHSvvU7ZGmPSNHhpR4NS4No\n",
      "http://api.map.baidu.com/place/v2/search?query=%E8%A5%BF%E7%BA%A2%E9%97%A8&tag=&region=%E5%8C%97%E4%BA%AC&output=json&ak=EwBUrSUNYuHSvvU7ZGmPSNHhpR4NS4No\n",
      "http://api.map.baidu.com/place/v2/search?query=%E9%AB%98%E7%B1%B3%E5%BA%97%E5%8C%97&tag=&region=%E5%8C%97%E4%BA%AC&output=json&ak=EwBUrSUNYuHSvvU7ZGmPSNHhpR4NS4No\n",
      "http://api.map.baidu.com/place/v2/search?query=%E9%AB%98%E7%B1%B3%E5%BA%97%E5%8D%97&tag=&region=%E5%8C%97%E4%BA%AC&output=json&ak=EwBUrSUNYuHSvvU7ZGmPSNHhpR4NS4No\n",
      "http://api.map.baidu.com/place/v2/search?query=%E6%9E%A3%E5%9B%AD&tag=&region=%E5%8C%97%E4%BA%AC&output=json&ak=EwBUrSUNYuHSvvU7ZGmPSNHhpR4NS4No\n",
      "http://api.map.baidu.com/place/v2/search?query=%E6%B8%85%E6%BA%90%E8%B7%AF&tag=&region=%E5%8C%97%E4%BA%AC&output=json&ak=EwBUrSUNYuHSvvU7ZGmPSNHhpR4NS4No\n",
      "http://api.map.baidu.com/place/v2/search?query=%E9%BB%84%E6%9D%91%E8%A5%BF%E5%A4%A7%E8%A1%97&tag=&region=%E5%8C%97%E4%BA%AC&output=json&ak=EwBUrSUNYuHSvvU7ZGmPSNHhpR4NS4No\n",
      "http://api.map.baidu.com/place/v2/search?query=%E9%BB%84%E6%9D%91%E7%81%AB%E8%BD%A6%E7%AB%99&tag=&region=%E5%8C%97%E4%BA%AC&output=json&ak=EwBUrSUNYuHSvvU7ZGmPSNHhpR4NS4No\n",
      "http://api.map.baidu.com/place/v2/search?query=%E4%B9%89%E5%92%8C%E5%BA%84&tag=&region=%E5%8C%97%E4%BA%AC&output=json&ak=EwBUrSUNYuHSvvU7ZGmPSNHhpR4NS4No\n",
      "http://api.map.baidu.com/place/v2/search?query=%E7%94%9F%E7%89%A9%E5%8C%BB%E8%8D%AF%E5%9F%BA%E5%9C%B0&tag=&region=%E5%8C%97%E4%BA%AC&output=json&ak=EwBUrSUNYuHSvvU7ZGmPSNHhpR4NS4No\n",
      "http://api.map.baidu.com/place/v2/search?query=%E5%A4%A9%E5%AE%AB%E9%99%A2&tag=&region=%E5%8C%97%E4%BA%AC&output=json&ak=EwBUrSUNYuHSvvU7ZGmPSNHhpR4NS4No\n",
      "http://api.map.baidu.com/place/v2/search?query=%E7%9F%B3%E5%8E%82&tag=&region=%E5%8C%97%E4%BA%AC&output=json&ak=EwBUrSUNYuHSvvU7ZGmPSNHhpR4NS4No\n",
      "http://api.map.baidu.com/place/v2/search?query=%E5%B0%8F%E5%9B%AD&tag=&region=%E5%8C%97%E4%BA%AC&output=json&ak=EwBUrSUNYuHSvvU7ZGmPSNHhpR4NS4No\n",
      "http://api.map.baidu.com/place/v2/search?query=%E6%A0%97%E5%9B%AD%E5%BA%84&tag=&region=%E5%8C%97%E4%BA%AC&output=json&ak=EwBUrSUNYuHSvvU7ZGmPSNHhpR4NS4No\n",
      "http://api.map.baidu.com/place/v2/search?query=%E4%B8%8A%E5%B2%B8&tag=&region=%E5%8C%97%E4%BA%AC&output=json&ak=EwBUrSUNYuHSvvU7ZGmPSNHhpR4NS4No\n",
      "http://api.map.baidu.com/place/v2/search?query=%E6%A1%A5%E6%88%B7%E8%90%A5&tag=&region=%E5%8C%97%E4%BA%AC&output=json&ak=EwBUrSUNYuHSvvU7ZGmPSNHhpR4NS4No\n",
      "http://api.map.baidu.com/place/v2/search?query=%E5%9B%9B%E9%81%93%E6%A1%A5&tag=&region=%E5%8C%97%E4%BA%AC&output=json&ak=EwBUrSUNYuHSvvU7ZGmPSNHhpR4NS4No\n",
      "http://api.map.baidu.com/place/v2/search?query=%E9%87%91%E5%AE%89%E6%A1%A5&tag=&region=%E5%8C%97%E4%BA%AC&output=json&ak=EwBUrSUNYuHSvvU7ZGmPSNHhpR4NS4No\n"
     ]
    },
    {
     "data": {
      "text/plain": [
       "{'苹果园': (116.184436, 39.932435999999996),\n",
       " '古城': (116.19707199999999, 39.913414),\n",
       " '八角游乐园': (116.21938999999999, 39.913076000000004),\n",
       " '八宝山': (116.24835800000001, 39.918286),\n",
       " '玉泉路': (116.25947, 39.913501000000004),\n",
       " '五棵松': (116.280423, 39.913833000000004),\n",
       " '万寿路': (116.301328, 39.913669),\n",
       " '公主坟': (116.316685, 39.913702),\n",
       " '军事博物馆': (116.330207, 39.914976),\n",
       " '木樨地': (116.34409699999999, 39.913125),\n",
       " '南礼士路': (116.35922099999999, 39.912979),\n",
       " '复兴门': (116.36376200000001, 39.913025),\n",
       " '西单': (116.382001, 39.913329),\n",
       " '天安门西': (116.39805, 39.913776),\n",
       " '天安门东': (116.40785100000001, 39.91408),\n",
       " '王府井': (116.418038, 39.91979),\n",
       " '东单': (116.425248, 39.914503),\n",
       " '建国门': (116.441577, 39.914505),\n",
       " '永安里': (116.457089, 39.914223),\n",
       " '国贸': (116.467523, 39.914435),\n",
       " '大望路': (116.48342, 39.914424),\n",
       " '四惠': (116.50194499999999, 39.91486),\n",
       " '四惠东': (116.522347, 39.914943),\n",
       " '西直门': (116.361446, 39.946471),\n",
       " '积水潭': (116.379185, 39.954765),\n",
       " '鼓楼大街': (116.40023799999999, 39.954611),\n",
       " '安定门': (116.414597, 39.955441),\n",
       " '雍和宫': (116.42363300000001, 39.953628),\n",
       " '东直门': (116.44145400000001, 39.947891999999996),\n",
       " '东四十条': (116.44063799999999, 39.939840999999994),\n",
       " '朝阳门': (116.440294, 39.930458),\n",
       " '北京站': (116.43354699999999, 39.909462),\n",
       " '崇文门': (116.42443899999999, 39.906953),\n",
       " '前门': (116.404276, 39.906534),\n",
       " '和平门': (116.390796, 39.906612),\n",
       " '宣武门': (116.380848, 39.905881),\n",
       " '长椿街': (116.36991100000002, 39.90534),\n",
       " '阜成门': (116.36281699999999, 39.929522),\n",
       " '车公庄': (116.361834, 39.938351000000004),\n",
       " '安河桥北': (116.276432, 40.018657),\n",
       " '北宫门': (116.28043999999998, 40.008632),\n",
       " '西苑': (116.297853, 40.0049),\n",
       " '圆明园': (116.309804, 40.012658),\n",
       " '北京大学东门': (116.32226499999999, 39.998006),\n",
       " '中关村': (116.323066, 39.989956),\n",
       " '海淀黄庄': (116.324348, 39.981865),\n",
       " '人民大学': (116.319769, 39.976546),\n",
       " '魏公村': (116.329874, 39.963457),\n",
       " '国家图书馆': (116.33006499999999, 39.949641),\n",
       " '动物园': (116.343376, 39.947734999999994),\n",
       " '新街口': (116.374132, 39.94658),\n",
       " '平安里': (116.378603, 39.939262),\n",
       " '西四': (116.37977, 39.930248),\n",
       " '灵境胡同': (116.380223, 39.922136),\n",
       " '菜市口': (116.38073999999999, 39.895375),\n",
       " '陶然亭': (116.388442, 39.88066),\n",
       " '北京南站': (116.385488, 39.87128),\n",
       " '马家堡': (116.37787800000001, 39.859199),\n",
       " '角门西': (116.37764399999999, 39.851929),\n",
       " '公益西桥': (116.371857, 39.837348),\n",
       " '宋家庄': (116.43490800000001, 39.851735),\n",
       " '刘家窑': (116.42856499999999, 39.863696999999995),\n",
       " '蒲黄榆': (116.428894, 39.871689),\n",
       " '天坛东门': (116.427392, 39.888496999999994),\n",
       " '磁器口': (116.42603500000001, 39.899339000000005),\n",
       " '灯市口': (116.42416899999999, 39.923603),\n",
       " '东四': (116.42328300000001, 39.93053),\n",
       " '张自忠路': (116.423579, 39.939914),\n",
       " '北新桥': (116.423298, 39.947112),\n",
       " '和平里北街': (116.425051, 39.964752000000004),\n",
       " '和平西桥': (116.42446299999999, 39.974502),\n",
       " '惠新西街南口': (116.42403999999999, 39.983276000000004),\n",
       " '惠新西街北口': (116.42353200000001, 39.994151),\n",
       " '大屯路东': (116.424567, 40.009611),\n",
       " '北苑路北': (116.424525, 40.036821),\n",
       " '立水桥南': (116.420973, 40.048142999999996),\n",
       " '立水桥': (116.418274, 40.059244),\n",
       " '天通苑南': (116.419113, 40.072752),\n",
       " '天通苑': (116.419233, 40.081478000000004),\n",
       " '天通苑北': (116.419385, 40.089597),\n",
       " '金安桥': (116.169048, 39.929569),\n",
       " '杨庄': (116.19533600000001, 39.930221),\n",
       " '西黄村': (116.21338600000001, 39.939411),\n",
       " '廖公庄': (116.23353700000001, 39.938025),\n",
       " '田村': (116.252191, 39.9372),\n",
       " '海淀五路居': (116.28295800000001, 39.938607),\n",
       " '慈寿寺': (116.30078, 39.939302000000005),\n",
       " '花园桥': (116.317559, 39.938382),\n",
       " '白石桥南': (116.33168400000001, 39.938564),\n",
       " '车公庄西': (116.350654, 39.938061),\n",
       " '北海北': (116.393267, 39.93952),\n",
       " '南锣鼓巷': (116.408878, 39.943562),\n",
       " '东大桥': (116.45845600000001, 39.928669),\n",
       " '呼家楼': (116.468103, 39.928979999999996),\n",
       " '金台路': (116.48489199999999, 39.929069),\n",
       " '十里堡': (116.50847900000001, 39.929238),\n",
       " '青年路': (116.52330500000001, 39.929458000000004),\n",
       " '褡裢坡': (116.570223, 39.929826),\n",
       " '黄渠': (116.58491699999999, 39.929937),\n",
       " '常营': (116.60587199999999, 39.931529),\n",
       " '草房': (116.622546, 39.930673),\n",
       " '物资学院路': (116.6458, 39.933081),\n",
       " '通州北关': (116.66808, 39.924617),\n",
       " '通运门': (116.680444, 39.897391),\n",
       " '北运河西': (116.694842, 39.908837),\n",
       " '北运河东': (116.71374099999998, 39.909261),\n",
       " '郝家府': (116.72421499999999, 39.909286),\n",
       " '东夏园': (116.741069, 39.909498),\n",
       " '潞城': (116.754522, 39.908938),\n",
       " '北京西站': (116.328103, 39.900835),\n",
       " '湾子': (116.3344, 39.895902),\n",
       " '达官营': (116.342069, 39.895671),\n",
       " '广安门内': (116.364626, 39.89543),\n",
       " '虎坊桥': (116.390654, 39.895691),\n",
       " '珠市口': (116.40481399999999, 39.897339),\n",
       " '桥湾': (116.414901, 39.899001),\n",
       " '广渠门内': (116.44094299999999, 39.899615999999995),\n",
       " '广渠门外': (116.45591100000001, 39.899309),\n",
       " '双井': (116.46914699999999, 39.899171),\n",
       " '九龙山': (116.48468899999999, 39.899525),\n",
       " '大郊亭': (116.49471100000001, 39.899072),\n",
       " '百子湾': (116.50381999999999, 39.898934999999994),\n",
       " '化工': (116.49246799999999, 39.897571),\n",
       " '南楼梓庄': (116.50780800000001, 39.88078),\n",
       " '欢乐谷景区': (116.505927, 39.872916),\n",
       " '垡头': (116.518225, 39.867184),\n",
       " '双合': (116.53326499999999, 39.866414),\n",
       " '焦化厂': (116.543631, 39.861686),\n",
       " '黄厂': (116.56043400000001, 39.855018),\n",
       " '郎辛庄': (116.5824, 39.861744),\n",
       " '黑庄户': (116.60252, 39.859373),\n",
       " '万盛西': (116.63898700000001, 39.86981),\n",
       " '万盛东': (116.663868, 39.869695),\n",
       " '群芳': (116.66868999999998, 39.879255),\n",
       " '高楼金': (116.69546799999999, 39.869755),\n",
       " '花庄': (116.701232, 39.862951),\n",
       " '朱辛庄': (116.32013, 40.110334),\n",
       " '育知路': (116.333754, 40.093697999999996),\n",
       " '平西府': (116.35700700000001, 40.095764),\n",
       " '回龙观东大街': (116.36973300000001, 40.086835),\n",
       " '霍营': (116.366666, 40.077090999999996),\n",
       " '育新': (116.354009, 40.066041999999996),\n",
       " '西小口': (116.358248, 40.052628000000006),\n",
       " '永泰庄': (116.361199, 40.043611999999996),\n",
       " '林萃桥': (116.379084, 40.027996),\n",
       " '森林公园南门': (116.39903600000001, 40.016211),\n",
       " '奥林匹克公园': (0, 0),\n",
       " '奥体中心': (116.40613799999998, 39.990549),\n",
       " '北土城': (116.40065200000001, 39.983496),\n",
       " '安华桥': (116.40107900000001, 39.974717999999996),\n",
       " '安德里北街': (116.401546, 39.963578999999996),\n",
       " '什刹海': (116.39112800000001, 39.947583),\n",
       " '中国美术馆': (116.415449, 39.931473),\n",
       " '天桥': (116.404481, 39.888709999999996),\n",
       " '永定门外': (116.405983, 39.872792),\n",
       " '木樨园': (116.406345, 39.86553),\n",
       " '海户屯': (116.40671299999998, 39.858265),\n",
       " '大红门': (116.40578700000002, 39.851831),\n",
       " '大红门南': (116.407454, 39.842626),\n",
       " '和义': (116.408491, 39.821387),\n",
       " '东高地': (116.41568600000001, 39.811433),\n",
       " '火箭万源': (116.425132, 39.805405),\n",
       " '五福堂': (116.430158, 39.791422),\n",
       " '德茂': (116.44825800000001, 39.778312),\n",
       " '瀛海': (116.45565, 39.766581),\n",
       " '郭公庄': (116.30848700000001, 39.820674),\n",
       " '丰台科技园': (116.30363899999999, 39.831449),\n",
       " '科怡路': (116.303808, 39.838664),\n",
       " '丰台南路': (116.30285400000001, 39.847201),\n",
       " '丰台东大街': (116.300215, 39.86144),\n",
       " '七里庄': (116.29638, 39.870409),\n",
       " '六里桥': (116.316774, 39.890471000000005),\n",
       " '六里桥东': (116.321854, 39.893237),\n",
       " '白堆子': (116.33235900000001, 39.929707),\n",
       " '巴沟': (116.298179, 39.980678000000005),\n",
       " '苏州街': (116.31276799999999, 39.981704),\n",
       " '知春里': (116.336091, 39.982061),\n",
       " '知春路': (116.347619, 39.982065000000006),\n",
       " '西土城': (116.36086999999999, 39.982036),\n",
       " '牡丹园': (116.376341, 39.982387),\n",
       " '健德门': (116.38781599999999, 39.982833),\n",
       " '安贞门': (116.412371, 39.983321999999994),\n",
       " '芍药居': (116.443528, 39.9835),\n",
       " '太阳宫': (116.45405900000002, 39.978367),\n",
       " '三元桥': (116.45871499999998, 39.96252),\n",
       " '亮马桥': (116.46874299999999, 39.955006),\n",
       " '农业展览馆': (116.47164199999999, 39.946271),\n",
       " '团结湖': (116.468337, 39.939382),\n",
       " '金台夕照': (116.46830200000001, 39.92263),\n",
       " '劲松': (116.46801, 39.890027),\n",
       " '潘家园': (116.46774199999999, 39.881541),\n",
       " '十里河': (116.46511100000001, 39.871590999999995),\n",
       " '分钟寺': (116.460348, 39.857886),\n",
       " '成寿寺': (116.454315, 39.851457),\n",
       " '石榴庄': (116.420566, 39.852109000000006),\n",
       " '角门东': (116.39253899999999, 39.851482),\n",
       " '草桥': (116.36171200000001, 39.848228999999996),\n",
       " '纪家庙': (116.339533, 39.850124),\n",
       " '首经贸': (116.32338, 39.847691),\n",
       " '丰台站': (116.311475, 39.856026),\n",
       " '泥洼': (116.31081299999998, 39.8647),\n",
       " '西局': (116.310321, 39.872329),\n",
       " '莲花桥': (116.316823, 39.904081),\n",
       " '西钓鱼台': (116.30418600000002, 39.929671),\n",
       " '车道沟': (116.300321, 39.954052000000004),\n",
       " '长春桥': (116.30046100000001, 39.964876000000004),\n",
       " '火器营': (116.29561000000001, 39.972383),\n",
       " '大钟寺': (116.35181999999999, 39.972034),\n",
       " '五道口': (116.344434, 39.998568),\n",
       " '上地': (116.32683600000001, 40.038699),\n",
       " '清河': (116.321941, 40.047158),\n",
       " '西二旗': (116.312555, 40.059036),\n",
       " '龙泽': (116.326173, 40.076646999999994),\n",
       " '回龙观': (116.34266399999998, 40.076423),\n",
       " '北苑': (116.44131499999999, 40.048871999999996),\n",
       " '望京西': (116.455519, 40.00107),\n",
       " '光熙门': (116.438355, 39.974474),\n",
       " '柳芳': (116.43926499999999, 39.964106),\n",
       " '张郭庄': (116.19340600000001, 39.864102),\n",
       " '园博园': (116.197275, 39.881916),\n",
       " '大瓦窑': (116.246953, 39.865215),\n",
       " '郭庄子': (116.25983500000001, 39.870754999999996),\n",
       " '大井': (116.281826, 39.871571),\n",
       " '善各庄': (116.48476200000002, 40.03309),\n",
       " '陶然桥': (116.39700900000001, 39.878605),\n",
       " '景泰': (116.41716399999999, 39.871443),\n",
       " '方庄': (116.43395600000001, 39.867562),\n",
       " '北工大西门': (116.484017, 39.880747),\n",
       " '平乐园': (116.48396699999999, 39.890758),\n",
       " '朝阳公园': (116.48923300000001, 39.949861),\n",
       " '枣营': (116.48155, 39.950188),\n",
       " '东风北桥': (116.49224099999999, 39.965861),\n",
       " '高家园': (116.490299, 39.983444),\n",
       " '阜通': (116.47764199999999, 39.997887),\n",
       " '望京': (116.47530400000001, 40.004532),\n",
       " '将台': (116.496253, 39.97696),\n",
       " '望京南': (116.488454, 39.990534000000004),\n",
       " '东湖渠': (116.47403200000001, 40.016228000000005),\n",
       " '来广营': (116.47348899999999, 40.026145),\n",
       " '俸伯': (116.69145, 40.138304),\n",
       " '顺义': (116.661427, 40.136352),\n",
       " '石门': (116.647499, 40.136314),\n",
       " '南法信': (116.61641100000001, 40.134458),\n",
       " '后沙峪': (116.570793, 40.119865000000004),\n",
       " '花梨坎': (116.564223, 40.090312),\n",
       " '国展': (116.449744, 39.967896),\n",
       " '孙河': (116.54104, 40.051264),\n",
       " '马泉营': (116.509638, 40.039846999999995),\n",
       " '崔各庄': (116.499145, 40.028437),\n",
       " '望京东': (116.4933, 40.00927),\n",
       " '关庄': (116.43788899999998, 40.007135999999996),\n",
       " '安立路': (116.414285, 40.008946),\n",
       " '北沙滩': (116.375561, 40.007538000000004),\n",
       " '六道口': (116.35930900000001, 40.006718),\n",
       " '清华东路西口': (116.345527, 40.0063),\n",
       " '农大南路': (116.290668, 40.027864),\n",
       " '马连洼': (116.279261, 40.038769),\n",
       " '西北旺': (116.264078, 40.055296999999996),\n",
       " '永丰南': (116.25461100000001, 40.071669),\n",
       " '永丰': (116.245001, 40.077705),\n",
       " '屯佃': (116.22244199999999, 40.074106),\n",
       " '稻香湖路': (116.194753, 40.074788),\n",
       " '温阳路': (116.167825, 40.074892),\n",
       " '北安河': (116.136825, 40.073863),\n",
       " '高碑店': (115.88056599999999, 39.332334),\n",
       " '传媒大学': (116.56363400000001, 39.917551),\n",
       " '双桥': (116.58333200000001, 39.915884999999996),\n",
       " '管庄': (116.602046, 39.922428000000004),\n",
       " '八里桥': (116.62514099999999, 39.912217999999996),\n",
       " '通州北苑': (116.646918, 39.907053999999995),\n",
       " '果园': (116.401678, 39.862860999999995),\n",
       " '九棵树': (116.663922, 39.896462),\n",
       " '梨园': (116.67521799999999, 39.889716),\n",
       " '临河里': (116.68546699999999, 39.881239),\n",
       " '土桥': (116.69298, 39.877629),\n",
       " '昌平西山口': (116.202226, 40.250294),\n",
       " '十三陵景区': (116.23184599999999, 40.263544),\n",
       " '昌平': (116.23761599999999, 40.226413),\n",
       " '昌平东关': (116.268533, 40.227946),\n",
       " '北邵洼': (116.287975, 40.228114),\n",
       " '南邵': (116.29350500000001, 40.213429999999995),\n",
       " '沙河高教园': (116.28675700000001, 40.171012),\n",
       " '沙河': (116.29505800000001, 40.154693),\n",
       " '巩华城': (116.30043400000001, 40.137318),\n",
       " '生命科学园': (116.30055, 40.100975),\n",
       " '肖村': (116.447088, 39.841165999999994),\n",
       " '小红门': (116.46580800000001, 39.83399),\n",
       " '旧宫': (116.467432, 39.812543),\n",
       " '亦庄桥': (116.486851, 39.808826),\n",
       " '亦庄文化园': (116.49701, 39.812839000000004),\n",
       " '万源街': (116.511997, 39.80917),\n",
       " '荣京东街': (116.51974399999999, 39.799616),\n",
       " '荣昌东街': (116.528038, 39.789194),\n",
       " '同济南路': (116.546383, 39.779146999999995),\n",
       " '经海路': (116.56891200000001, 39.789493),\n",
       " '次渠南': (116.587934, 39.800804),\n",
       " '次渠': (116.59791100000001, 39.809191),\n",
       " '亦庄火车站': (116.60816799999999, 39.818345),\n",
       " '大葆台': (116.29815900000001, 39.814112),\n",
       " '稻田': (116.225429, 39.800509000000005),\n",
       " '长阳': (116.21926299999998, 39.769411),\n",
       " '篱笆房': (116.19592800000001, 39.766697),\n",
       " '广阳城': (116.191395, 39.754016),\n",
       " '良乡大学城北': (116.18986100000001, 39.736109),\n",
       " '良乡大学城': (116.17748, 39.731491999999996),\n",
       " '良乡大学城西': (116.16268400000001, 39.7296),\n",
       " '良乡南关': (116.147255, 39.72947),\n",
       " '苏庄': (116.13189799999999, 39.729197),\n",
       " '3号航站楼': (116.619758, 40.072776),\n",
       " '2号航站楼': (116.600726, 40.086705),\n",
       " '新宫': (116.372097, 39.818302),\n",
       " '西红门': (116.335169, 39.795445),\n",
       " '高米店北': (116.337331, 39.779548),\n",
       " '高米店南': (116.33841000000001, 39.769059000000006),\n",
       " '枣园': (116.338975, 39.759079),\n",
       " '清源路': (116.339019, 39.748354),\n",
       " '黄村西大街': (116.339128, 39.73738),\n",
       " '黄村火车站': (116.33821599999999, 39.725999),\n",
       " '义和庄': (116.325538, 39.718296),\n",
       " '生物医药基地': (116.32821799999999, 39.692271999999996),\n",
       " '天宫院': (116.32643700000001, 39.676122),\n",
       " '石厂': (116.195426, 39.793896999999994),\n",
       " '小园': (116.121001, 39.896156),\n",
       " '栗园庄': (116.129827, 39.901771000000004),\n",
       " '上岸': (116.12871399999999, 39.911139),\n",
       " '桥户营': (116.132271, 39.918355),\n",
       " '四道桥': (116.14035600000001, 39.922119)}"
      ]
     },
     "execution_count": 132,
     "metadata": {},
     "output_type": "execute_result"
    }
   ],
   "source": [
    "stations_data = {}\n",
    "\n",
    "for station in stations:\n",
    "    stations_data[station] = __get_location1__(station,'北京') #use Baiduapi to get lng and lat\n",
    "stations_data"
   ]
  },
  {
   "cell_type": "code",
   "execution_count": 133,
   "metadata": {},
   "outputs": [],
   "source": [
    "with open('./stationdata.txt','w') as f:\n",
    "    f.write(str(stations_data))\n",
    "    f.close()"
   ]
  },
  {
   "cell_type": "code",
   "execution_count": 146,
   "metadata": {},
   "outputs": [
    {
     "name": "stdout",
     "output_type": "stream",
     "text": [
      "{'1号线': ['苹果园', '古城', '八角游乐园', '八宝山', '玉泉路', '五棵松', '万寿路', '公主坟', '军事博物馆', '木樨地', '南礼士路', '复兴门', '西单', '天安门西', '天安门东', '王府井', '东单', '建国门', '永安里', '国贸', '大望路', '四惠', '四惠东'], '2号线': ['西直门', '积水潭', '鼓楼大街', '安定门', '雍和宫', '东直门', '东四十条', '朝阳门', '建国门', '北京站', '崇文门', '前门', '和平门', '宣武门', '长椿街', '复兴门', '阜成门', '车公庄'], '4号线': ['安河桥北', '北宫门', '西苑', '圆明园', '北京大学东门', '中关村', '海淀黄庄', '人民大学', '魏公村', '国家图书馆', '动物园', '西直门', '新街口', '平安里', '西四', '灵境胡同', '西单', '宣武门', '菜市口', '陶然亭', '北京南站', '马家堡', '角门西', '公益西桥'], '5号线': ['宋家庄', '刘家窑', '蒲黄榆', '天坛东门', '磁器口', '崇文门', '东单', '灯市口', '东四', '张自忠路', '北新桥', '雍和宫', '和平里北街', '和平西桥', '惠新西街南口', '惠新西街北口', '大屯路东', '北苑路北', '立水桥南', '立水桥', '天通苑南', '天通苑', '天通苑北'], '6号线': ['金安桥', '苹果园', '杨庄', '西黄村', '廖公庄', '田村', '海淀五路居', '慈寿寺', '花园桥', '白石桥南', '车公庄西', '车公庄', '平安里', '北海北', '南锣鼓巷', '东四', '朝阳门', '东大桥', '呼家楼', '金台路', '十里堡', '青年路', '褡裢坡', '黄渠', '常营', '草房', '物资学院路', '通州北关', '通运门', '北运河西', '北运河东', '郝家府', '东夏园', '潞城'], '7号线': ['北京西站', '湾子', '达官营', '广安门内', '菜市口', '虎坊桥', '珠市口', '桥湾', '磁器口', '广渠门内', '广渠门外', '双井', '九龙山', '大郊亭', '百子湾', '化工', '南楼梓庄', '欢乐谷景区', '垡头', '双合', '焦化厂', '黄厂', '郎辛庄', '黑庄户', '万盛西', '万盛东', '群芳', '高楼金', '花庄'], '8号线': ['朱辛庄', '育知路', '平西府', '回龙观东大街', '霍营', '育新', '西小口', '永泰庄', '林萃桥', '森林公园南门', '奥林匹克公园', '奥体中心', '北土城', '安华桥', '安德里北街', '鼓楼大街', '什刹海', '南锣鼓巷', '中国美术馆', '珠市口', '天桥', '永定门外', '木樨园', '海户屯', '大红门', '大红门南', '和义', '东高地', '火箭万源', '五福堂', '德茂', '瀛海'], '9号线': ['郭公庄', '丰台科技园', '科怡路', '丰台南路', '丰台东大街', '七里庄', '六里桥', '六里桥东', '北京西站', '军事博物馆', '白堆子', '白石桥南', '国家图书馆'], '10号线': ['巴沟', '苏州街', '海淀黄庄', '知春里', '知春路', '西土城', '牡丹园', '健德门', '北土城', '安贞门', '惠新西街南口', '芍药居', '太阳宫', '三元桥', '亮马桥', '农业展览馆', '团结湖', '呼家楼', '金台夕照', '国贸', '双井', '劲松', '潘家园', '十里河', '分钟寺', '成寿寺', '宋家庄', '石榴庄', '大红门', '角门东', '角门西', '草桥', '纪家庙', '首经贸', '丰台站', '泥洼', '西局', '六里桥', '莲花桥', '公主坟', '西钓鱼台', '慈寿寺', '车道沟', '长春桥', '火器营'], '13号线': ['西直门', '大钟寺', '知春路', '五道口', '上地', '清河', '西二旗', '龙泽', '回龙观', '霍营', '立水桥', '北苑', '望京西', '芍药居', '光熙门', '柳芳', '东直门'], '14号线': ['张郭庄', '园博园', '大瓦窑', '郭庄子', '大井', '七里庄', '西局', '善各庄', '陶然桥', '永定门外', '景泰', '方庄', '北工大西门', '平乐园', '北京南站', '蒲黄榆', '十里河', '九龙山', '大望路', '朝阳公园', '枣营', '东风北桥', '高家园', '阜通', '望京', '金台路', '将台', '望京南', '东湖渠', '来广营'], '15号线': ['俸伯', '顺义', '石门', '南法信', '后沙峪', '花梨坎', '国展', '孙河', '马泉营', '崔各庄', '望京东', '望京', '望京西', '关庄', '大屯路东', '安立路', '奥林匹克公园', '北沙滩', '六道口', '清华东路西口'], '16号线': ['西苑', '农大南路', '马连洼', '西北旺', '永丰南', '永丰', '屯佃', '稻香湖路', '温阳路', '北安河'], '八通线': ['四惠', '四惠东', '高碑店', '传媒大学', '双桥', '管庄', '八里桥', '通州北苑', '果园', '九棵树', '梨园', '临河里', '土桥', '花庄'], '昌平线': ['昌平西山口', '十三陵景区', '昌平', '昌平东关', '北邵洼', '南邵', '沙河高教园', '沙河', '巩华城', '朱辛庄', '生命科学园', '西二旗'], '亦庄线': ['宋家庄', '肖村', '小红门', '旧宫', '亦庄桥', '亦庄文化园', '万源街', '荣京东街', '荣昌东街', '同济南路', '经海路', '次渠南', '次渠', '亦庄火车站'], '房山线': ['郭公庄', '大葆台', '稻田', '长阳', '篱笆房', '广阳城', '良乡大学城北', '良乡大学城', '良乡大学城西', '良乡南关', '苏庄'], '首都机场线': ['东直门', '三元桥', '3号航站楼', '2号航站楼'], '大兴线': ['公益西桥', '新宫', '西红门', '高米店北', '高米店南', '枣园', '清源路', '黄村西大街', '黄村火车站', '义和庄', '生物医药基地', '天宫院'], 'S1线': ['石厂', '小园', '栗园庄', '上岸', '桥户营', '四道桥', '金安桥']}\n"
     ]
    }
   ],
   "source": [
    "## 从北京地铁官网爬取线路信息\n",
    "with open(filename) as f:\n",
    "    text = f.read()\n",
    "    f.close()\n",
    "text_list = text.splitlines()\n",
    "subway_line = {}\n",
    "i = 0\n",
    "while i < len(text_list):\n",
    "    line = text_list[i]\n",
    "    start = re.findall('class=\\\"subway_num[\\S*|\\s*|\\w*]*\\>([\\S]*线|[\\u4e00-\\u9fa5]+线|[\\S]*号线)\\<',line)\n",
    "    if len(start) != 0:\n",
    "        subway_line[start[0]] = []\n",
    "        j = i+1\n",
    "        while j < len(text_list):\n",
    "            line = text_list[j]\n",
    "            station = re.findall('class=\\\"station\\\"[\\s*|\\S*]*\\>(\\S*[\\u4e00-\\u9fa5]+)\\<',line)\n",
    "            stopsign = re.search('\\<div class=\\\"line_name\\\"\\>',line)\n",
    "            if len(station) > 0:\n",
    "                subway_line[start[0]].append(station[0])\n",
    "            if stopsign is not None:\n",
    "                i = j\n",
    "                break\n",
    "            j = j+1      \n",
    "    i = i+1\n",
    "print(subway_line)\n",
    "with open('./subway_line.txt','w') as f:\n",
    "    f.write(str(subway_line))\n",
    "    f.close()"
   ]
  },
  {
   "cell_type": "markdown",
   "metadata": {},
   "source": [
    "# 从保存好的数据中读取地铁线路和地铁站位置到程序"
   ]
  },
  {
   "cell_type": "code",
   "execution_count": 283,
   "metadata": {},
   "outputs": [],
   "source": [
    "## starts from here\n",
    "import numpy as np\n",
    "with open('./stationdata.txt') as f:\n",
    "    tmp = f.read()\n",
    "    station_geodata = eval(tmp)\n",
    "    f.close()\n",
    "with open('./subway_line.txt') as f:\n",
    "    tmp = f.read()\n",
    "    subway_line = eval(tmp)\n",
    "    f.close()\n",
    "station_geodata['奥林匹克公园'] = tuple((np.array(station_geodata['奥体中心'])+np.array(station_geodata['森林公园南门']))/2)\n",
    "station_geodata['高碑店'] = tuple((np.array(station_geodata['传媒大学'])+np.array(station_geodata['四惠东']))/2)\n",
    "## 这两个地铁站的地理位置有错"
   ]
  },
  {
   "cell_type": "code",
   "execution_count": 201,
   "metadata": {},
   "outputs": [
    {
     "data": {
      "image/png": "[encoded data removed]",
      "text/plain": [
       "<Figure size 432x288 with 1 Axes>"
      ]
     },
     "metadata": {},
     "output_type": "display_data"
    }
   ],
   "source": [
    "import networkx as nx\n",
    "import matplotlib.pyplot as plt\n",
    "%matplotlib inline\n",
    "\n",
    "plt.rcParams['font.sans-serif'] = ['SimHei']\n",
    "plt.rcParams['axes.unicode_minus'] = False\n",
    "\n",
    "subway_graph = nx.Graph()\n",
    "subway_graph.add_nodes_from(list(station_geodata.keys()))\n",
    "nx.draw(subway_graph,station_geodata,node_size=3) #with_labels=True"
   ]
  },
  {
   "cell_type": "markdown",
   "metadata": {},
   "source": [
    "# 从地铁线路信息得到图"
   ]
  },
  {
   "cell_type": "code",
   "execution_count": 292,
   "metadata": {},
   "outputs": [],
   "source": [
    "from collections import defaultdict\n",
    "def get_graph(subway_lines):\n",
    "    subway_connection = defaultdict(list)\n",
    "    for line in subway_lines:\n",
    "        for i,station in enumerate(subway_lines[line]):\n",
    "            if i==0: #每一条线获取前一个站和后一个站\n",
    "                subway_connection[station].append(subway_line[line][i+1])\n",
    "            elif i>0 and i<len(subway_line[line])-1:\n",
    "                subway_connection[station].append(subway_line[line][i+1])\n",
    "                subway_connection[station].append(subway_line[line][i-1])\n",
    "            elif i==len(subway_line[line])-1:\n",
    "                subway_connection[station].append(subway_line[line][i-1])\n",
    "            i = i+1\n",
    "        if line == \"2号线\" or line == \"10号线\": ##北京地铁十号线和二号线为环形\n",
    "            subway_connection[subway_line[line][-1]].append(subway_line[line][0])\n",
    "            subway_connection[subway_line[line][0]].append(subway_line[line][-1])\n",
    "    return subway_connection"
   ]
  },
  {
   "cell_type": "code",
   "execution_count": 293,
   "metadata": {},
   "outputs": [
    {
     "data": {
      "image/png": "[encoded data removed]",
      "text/plain": [
       "<Figure size 432x288 with 1 Axes>"
      ]
     },
     "metadata": {},
     "output_type": "display_data"
    }
   ],
   "source": [
    "subway_connection = get_graph(subway_line)\n",
    "subway_connection_graph = nx.Graph(subway_connection)\n",
    "# subway_connection[\"高碑店\"]\n",
    "nx.draw(subway_connection_graph,station_geodata,with_labels=False,node_size=10)"
   ]
  },
  {
   "cell_type": "code",
   "execution_count": 253,
   "metadata": {},
   "outputs": [
    {
     "data": {
      "text/plain": [
       "['2号线', '4号线', '13号线']"
      ]
     },
     "execution_count": 253,
     "metadata": {},
     "output_type": "execute_result"
    }
   ],
   "source": [
    "def get_current_line(name,subway_lines):\n",
    "    target = []\n",
    "    for line in subway_lines.keys():\n",
    "        if name in subway_lines[line]:\n",
    "            target.append(line)\n",
    "    return target\n",
    "get_current_line(\"西直门\",subway_line)"
   ]
  },
  {
   "cell_type": "code",
   "execution_count": 294,
   "metadata": {},
   "outputs": [
    {
     "name": "stdout",
     "output_type": "stream",
     "text": [
      "['四惠', '四惠东', '高碑店', '传媒大学', '双桥', '管庄', '八里桥', '通州北苑', '果园', '九棵树', '梨园', '临河里', '土桥', '花庄']\n"
     ]
    }
   ],
   "source": [
    "print(subway_line[\"八通线\"])\n",
    "# subway_connection"
   ]
  },
  {
   "cell_type": "markdown",
   "metadata": {},
   "source": [
    "#### 3. Build the search agent"
   ]
  },
  {
   "cell_type": "markdown",
   "metadata": {},
   "source": [
    "Build the search agent based ont he graph you built."
   ]
  },
  {
   "cell_type": "markdown",
   "metadata": {},
   "source": [
    "for example, if you use Beijing subway graoh, and you run:"
   ]
  },
  {
   "cell_type": "markdown",
   "metadata": {},
   "source": [
    "\\>>> search(\"奥体中心“，”天安门“）"
   ]
  },
  {
   "cell_type": "markdown",
   "metadata": {},
   "source": [
    "You should get the result as follows: 奥体中心 -> A ->B ->C ... -> 天安门"
   ]
  },
  {
   "cell_type": "markdown",
   "metadata": {},
   "source": [
    "### (Optional) Improve your agent to make it able to find a path based on different strategies"
   ]
  },
  {
   "cell_type": "markdown",
   "metadata": {},
   "source": [
    "###  <评阅点> : 是否正确得到不同目标下的路径。"
   ]
  },
  {
   "cell_type": "markdown",
   "metadata": {},
   "source": [
    "Some ideas you might want to try:"
   ]
  },
  {
   "cell_type": "markdown",
   "metadata": {},
   "source": [
    "a. Find the shortest path between two stations."
   ]
  },
  {
   "cell_type": "markdown",
   "metadata": {},
   "source": [
    "b. Find the path that requires minimum transfers between two stations."
   ]
  },
  {
   "cell_type": "markdown",
   "metadata": {},
   "source": [
    "c. Combine the previous two ideas, find a more suitable path."
   ]
  },
  {
   "cell_type": "markdown",
   "metadata": {},
   "source": [
    "Compare your results with results obtained by using some apps such as Baidu map, A map, Google map or Apple map. If there is difference, try to explanate it."
   ]
  },
  {
   "cell_type": "markdown",
   "metadata": {},
   "source": [
    "## Congratulations ! You have finished the assignment of week 2."
   ]
  },
  {
   "cell_type": "markdown",
   "metadata": {},
   "source": [
    "![title](img/agent.png)"
   ]
  },
  {
   "cell_type": "markdown",
   "metadata": {},
   "source": [
    "### If you have any suggestions regarding the teaching, please feel free to send them to my eamil (eric.lee.xiao@gmail.com) "
   ]
  },
  {
   "cell_type": "code",
   "execution_count": null,
   "metadata": {},
   "outputs": [],
   "source": []
  }
 ],
 "metadata": {
  "kernelspec": {
   "display_name": "Python 3",
   "language": "python",
   "name": "python3"
  },
  "language_info": {
   "codemirror_mode": {
    "name": "ipython",
    "version": 3
   },
   "file_extension": ".py",
   "mimetype": "text/x-python",
   "name": "python",
   "nbconvert_exporter": "python",
   "pygments_lexer": "ipython3",
   "version": "3.6.8"
  }
 },
 "nbformat": 4,
 "nbformat_minor": 2
}
